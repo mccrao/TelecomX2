{
 "cells": [
  {
   "cell_type": "code",
   "execution_count": 1,
   "id": "b925750e-a658-4725-b85b-8896d9686022",
   "metadata": {},
   "outputs": [],
   "source": [
    "import pandas as pd"
   ]
  },
  {
   "cell_type": "markdown",
   "id": "f246d4f4-1656-4444-bf98-3ae43d91199c",
   "metadata": {},
   "source": [
    "quienes son los clientes con mayor riesgo de evasion?  \n",
    "que variables influyen mas en este comportamiento?  \n",
    "que tipo de perfil necesita la empresa para mantenerse mas cerca?  (que perfil de cliente se debe cuidar con atencion)\n"
   ]
  },
  {
   "cell_type": "markdown",
   "id": "a5df3f26-fcbb-4f51-ac90-2e2411da540a",
   "metadata": {},
   "source": [
    "1. crear el repositorio de github\n",
    "2. extaer el archivo tratado (se utilizan los datos tratados del challenge TelecomX_1\n",
    "3. Realizar preparacion de los datos para el TelecomX_2 para lograr hacer los modelos predictivos, como:\n",
    "    * eliminacion de columnas irrelevantes\n",
    "    * hacer una verificacion a la proporcion de cancelacion\n",
    "    * hacer balanceo de clases\n",
    "    * si es necesario, hacer una normalizacion o estandarizacion de estos modelos.\n",
    "    * hacer correlacion y seleccion de las variables (analisis de correlacion y un analisis dirigido para construir el modelo predictivo)\n",
    "    * basado en los datos hacer un analisis de importancia de las variables, y realizar la conclusion para que la empresa pueda ante ponerse a la evacion de clientes\n",
    "      "
   ]
  },
  {
   "cell_type": "markdown",
   "id": "c92a0e31-73e4-4ef5-b8ea-11c47d12c438",
   "metadata": {},
   "source": [
    "Entrega final:  \n",
    "    (en un repositorio nuevo)\n",
    "    \n",
    "* notebook explicativo, con analisis claro, el modelo evaluado con metricas y una conclusion estrategica basandote en los datos que ha entregado estos modelos\n",
    "\n",
    "  Consideraciones:\n",
    "  Haber realizado los cursos\n",
    "  Haber realizado la primera parte del challenge (TelecomX_1) "
   ]
  },
  {
   "cell_type": "code",
   "execution_count": null,
   "id": "55fc2ef8-b451-4a68-b6a5-2806841bd8ca",
   "metadata": {},
   "outputs": [],
   "source": []
  }
 ],
 "metadata": {
  "kernelspec": {
   "display_name": "Python 3 (ipykernel)",
   "language": "python",
   "name": "python3"
  },
  "language_info": {
   "codemirror_mode": {
    "name": "ipython",
    "version": 3
   },
   "file_extension": ".py",
   "mimetype": "text/x-python",
   "name": "python",
   "nbconvert_exporter": "python",
   "pygments_lexer": "ipython3",
   "version": "3.13.3"
  }
 },
 "nbformat": 4,
 "nbformat_minor": 5
}
