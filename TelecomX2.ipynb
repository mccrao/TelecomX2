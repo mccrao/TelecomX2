{
 "cells": [
  {
   "cell_type": "markdown",
   "metadata": {},
   "source": [
    "# Challenge: TelecomX2"
   ]
  },
  {
   "cell_type": "markdown",
   "metadata": {
    "id": "DXBPIKIN1WrU"
   },
   "source": [
    "# Extracción del Archivo Tratado"
   ]
  },
  {
   "cell_type": "code",
   "execution_count": 78,
   "metadata": {
    "id": "N_-cUTTaxLPe",
    "tags": []
   },
   "outputs": [],
   "source": [
    "import pandas as pd"
   ]
  },
  {
   "cell_type": "code",
   "execution_count": 6,
   "metadata": {
    "id": "jdvwE3MY1s1E",
    "tags": []
   },
   "outputs": [],
   "source": [
    "datos = pd.read_csv('df.csv')"
   ]
  },
  {
   "cell_type": "code",
   "execution_count": 7,
   "metadata": {
    "id": "a1hTFZGa81xx",
    "tags": []
   },
   "outputs": [],
   "source": [
    "datos['género'] = datos['género'].map({'Masculino': 0, 'Femenino': 1})"
   ]
  },
  {
   "cell_type": "code",
   "execution_count": 8,
   "metadata": {
    "id": "xSQMaDULLMdU",
    "tags": []
   },
   "outputs": [],
   "source": [
    "datos = datos.rename(columns={'cuidadano_mayor': 'ciudadano_mayor'})"
   ]
  },
  {
   "cell_type": "code",
   "execution_count": 9,
   "metadata": {
    "colab": {
     "base_uri": "https://localhost:8080/",
     "height": 617
    },
    "id": "tcDU2nwc10jb",
    "outputId": "a1010bde-152e-4753-b43c-ed37b039edb9",
    "tags": []
   },
   "outputs": [
    {
     "data": {
      "text/html": [
       "<div>\n",
       "<style scoped>\n",
       "    .dataframe tbody tr th:only-of-type {\n",
       "        vertical-align: middle;\n",
       "    }\n",
       "\n",
       "    .dataframe tbody tr th {\n",
       "        vertical-align: top;\n",
       "    }\n",
       "\n",
       "    .dataframe thead th {\n",
       "        text-align: right;\n",
       "    }\n",
       "</style>\n",
       "<table border=\"1\" class=\"dataframe\">\n",
       "  <thead>\n",
       "    <tr style=\"text-align: right;\">\n",
       "      <th></th>\n",
       "      <th>id_cliente</th>\n",
       "      <th>churn</th>\n",
       "      <th>género</th>\n",
       "      <th>ciudadano_mayor</th>\n",
       "      <th>pareja</th>\n",
       "      <th>dependientes</th>\n",
       "      <th>meses_de_contrato</th>\n",
       "      <th>servicio_telefonico</th>\n",
       "      <th>multiples_lineas_telefonicas</th>\n",
       "      <th>servicio_internet</th>\n",
       "      <th>...</th>\n",
       "      <th>soporte_tecnico</th>\n",
       "      <th>servicio_tv</th>\n",
       "      <th>servicio_de_peliculas</th>\n",
       "      <th>tipo_de_contrato</th>\n",
       "      <th>factura_en_linea</th>\n",
       "      <th>forma_de_pago</th>\n",
       "      <th>cargos_mensuales</th>\n",
       "      <th>cargos_totales</th>\n",
       "      <th>cuentas_diarias</th>\n",
       "      <th>cantidad_servicios</th>\n",
       "    </tr>\n",
       "  </thead>\n",
       "  <tbody>\n",
       "    <tr>\n",
       "      <th>0</th>\n",
       "      <td>0002-ORFBO</td>\n",
       "      <td>0</td>\n",
       "      <td>1</td>\n",
       "      <td>0</td>\n",
       "      <td>1</td>\n",
       "      <td>1</td>\n",
       "      <td>9</td>\n",
       "      <td>1</td>\n",
       "      <td>No</td>\n",
       "      <td>DSL</td>\n",
       "      <td>...</td>\n",
       "      <td>Yes</td>\n",
       "      <td>Yes</td>\n",
       "      <td>No</td>\n",
       "      <td>Un año</td>\n",
       "      <td>1</td>\n",
       "      <td>Cheque por correo</td>\n",
       "      <td>65.60</td>\n",
       "      <td>593.30</td>\n",
       "      <td>2.155059</td>\n",
       "      <td>5</td>\n",
       "    </tr>\n",
       "    <tr>\n",
       "      <th>1</th>\n",
       "      <td>0003-MKNFE</td>\n",
       "      <td>0</td>\n",
       "      <td>0</td>\n",
       "      <td>0</td>\n",
       "      <td>0</td>\n",
       "      <td>0</td>\n",
       "      <td>9</td>\n",
       "      <td>1</td>\n",
       "      <td>Yes</td>\n",
       "      <td>DSL</td>\n",
       "      <td>...</td>\n",
       "      <td>No</td>\n",
       "      <td>No</td>\n",
       "      <td>Yes</td>\n",
       "      <td>Mes a mes</td>\n",
       "      <td>0</td>\n",
       "      <td>Cheque por correo</td>\n",
       "      <td>59.90</td>\n",
       "      <td>542.40</td>\n",
       "      <td>1.967806</td>\n",
       "      <td>4</td>\n",
       "    </tr>\n",
       "    <tr>\n",
       "      <th>2</th>\n",
       "      <td>0004-TLHLJ</td>\n",
       "      <td>1</td>\n",
       "      <td>0</td>\n",
       "      <td>0</td>\n",
       "      <td>0</td>\n",
       "      <td>0</td>\n",
       "      <td>4</td>\n",
       "      <td>1</td>\n",
       "      <td>No</td>\n",
       "      <td>Fibra óptica</td>\n",
       "      <td>...</td>\n",
       "      <td>No</td>\n",
       "      <td>No</td>\n",
       "      <td>No</td>\n",
       "      <td>Mes a mes</td>\n",
       "      <td>1</td>\n",
       "      <td>Cheque electrónico</td>\n",
       "      <td>73.90</td>\n",
       "      <td>280.85</td>\n",
       "      <td>2.427727</td>\n",
       "      <td>3</td>\n",
       "    </tr>\n",
       "    <tr>\n",
       "      <th>3</th>\n",
       "      <td>0011-IGKFF</td>\n",
       "      <td>1</td>\n",
       "      <td>0</td>\n",
       "      <td>1</td>\n",
       "      <td>1</td>\n",
       "      <td>0</td>\n",
       "      <td>13</td>\n",
       "      <td>1</td>\n",
       "      <td>No</td>\n",
       "      <td>Fibra óptica</td>\n",
       "      <td>...</td>\n",
       "      <td>No</td>\n",
       "      <td>Yes</td>\n",
       "      <td>Yes</td>\n",
       "      <td>Mes a mes</td>\n",
       "      <td>1</td>\n",
       "      <td>Cheque electrónico</td>\n",
       "      <td>98.00</td>\n",
       "      <td>1237.85</td>\n",
       "      <td>3.219448</td>\n",
       "      <td>6</td>\n",
       "    </tr>\n",
       "    <tr>\n",
       "      <th>4</th>\n",
       "      <td>0013-EXCHZ</td>\n",
       "      <td>1</td>\n",
       "      <td>1</td>\n",
       "      <td>1</td>\n",
       "      <td>1</td>\n",
       "      <td>0</td>\n",
       "      <td>3</td>\n",
       "      <td>1</td>\n",
       "      <td>No</td>\n",
       "      <td>Fibra óptica</td>\n",
       "      <td>...</td>\n",
       "      <td>Yes</td>\n",
       "      <td>Yes</td>\n",
       "      <td>No</td>\n",
       "      <td>Mes a mes</td>\n",
       "      <td>1</td>\n",
       "      <td>Cheque por correo</td>\n",
       "      <td>83.90</td>\n",
       "      <td>267.40</td>\n",
       "      <td>2.756242</td>\n",
       "      <td>4</td>\n",
       "    </tr>\n",
       "    <tr>\n",
       "      <th>...</th>\n",
       "      <td>...</td>\n",
       "      <td>...</td>\n",
       "      <td>...</td>\n",
       "      <td>...</td>\n",
       "      <td>...</td>\n",
       "      <td>...</td>\n",
       "      <td>...</td>\n",
       "      <td>...</td>\n",
       "      <td>...</td>\n",
       "      <td>...</td>\n",
       "      <td>...</td>\n",
       "      <td>...</td>\n",
       "      <td>...</td>\n",
       "      <td>...</td>\n",
       "      <td>...</td>\n",
       "      <td>...</td>\n",
       "      <td>...</td>\n",
       "      <td>...</td>\n",
       "      <td>...</td>\n",
       "      <td>...</td>\n",
       "      <td>...</td>\n",
       "    </tr>\n",
       "    <tr>\n",
       "      <th>7251</th>\n",
       "      <td>9987-LUTYD</td>\n",
       "      <td>0</td>\n",
       "      <td>1</td>\n",
       "      <td>0</td>\n",
       "      <td>0</td>\n",
       "      <td>0</td>\n",
       "      <td>13</td>\n",
       "      <td>1</td>\n",
       "      <td>No</td>\n",
       "      <td>DSL</td>\n",
       "      <td>...</td>\n",
       "      <td>Yes</td>\n",
       "      <td>No</td>\n",
       "      <td>No</td>\n",
       "      <td>Un año</td>\n",
       "      <td>0</td>\n",
       "      <td>Cheque por correo</td>\n",
       "      <td>55.15</td>\n",
       "      <td>742.90</td>\n",
       "      <td>1.811761</td>\n",
       "      <td>4</td>\n",
       "    </tr>\n",
       "    <tr>\n",
       "      <th>7252</th>\n",
       "      <td>9992-RRAMN</td>\n",
       "      <td>1</td>\n",
       "      <td>0</td>\n",
       "      <td>0</td>\n",
       "      <td>1</td>\n",
       "      <td>0</td>\n",
       "      <td>22</td>\n",
       "      <td>1</td>\n",
       "      <td>Yes</td>\n",
       "      <td>Fibra óptica</td>\n",
       "      <td>...</td>\n",
       "      <td>No</td>\n",
       "      <td>No</td>\n",
       "      <td>Yes</td>\n",
       "      <td>Mes a mes</td>\n",
       "      <td>1</td>\n",
       "      <td>Cheque electrónico</td>\n",
       "      <td>85.10</td>\n",
       "      <td>1873.70</td>\n",
       "      <td>2.795664</td>\n",
       "      <td>4</td>\n",
       "    </tr>\n",
       "    <tr>\n",
       "      <th>7253</th>\n",
       "      <td>9992-UJOEL</td>\n",
       "      <td>0</td>\n",
       "      <td>0</td>\n",
       "      <td>0</td>\n",
       "      <td>0</td>\n",
       "      <td>0</td>\n",
       "      <td>2</td>\n",
       "      <td>1</td>\n",
       "      <td>No</td>\n",
       "      <td>DSL</td>\n",
       "      <td>...</td>\n",
       "      <td>No</td>\n",
       "      <td>No</td>\n",
       "      <td>No</td>\n",
       "      <td>Mes a mes</td>\n",
       "      <td>1</td>\n",
       "      <td>Cheque por correo</td>\n",
       "      <td>50.30</td>\n",
       "      <td>92.75</td>\n",
       "      <td>1.652431</td>\n",
       "      <td>3</td>\n",
       "    </tr>\n",
       "    <tr>\n",
       "      <th>7254</th>\n",
       "      <td>9993-LHIEB</td>\n",
       "      <td>0</td>\n",
       "      <td>0</td>\n",
       "      <td>0</td>\n",
       "      <td>1</td>\n",
       "      <td>1</td>\n",
       "      <td>67</td>\n",
       "      <td>1</td>\n",
       "      <td>No</td>\n",
       "      <td>DSL</td>\n",
       "      <td>...</td>\n",
       "      <td>Yes</td>\n",
       "      <td>No</td>\n",
       "      <td>Yes</td>\n",
       "      <td>Dos años</td>\n",
       "      <td>0</td>\n",
       "      <td>Cheque por correo</td>\n",
       "      <td>67.85</td>\n",
       "      <td>4627.65</td>\n",
       "      <td>2.228975</td>\n",
       "      <td>6</td>\n",
       "    </tr>\n",
       "    <tr>\n",
       "      <th>7255</th>\n",
       "      <td>9995-HOTOH</td>\n",
       "      <td>0</td>\n",
       "      <td>0</td>\n",
       "      <td>0</td>\n",
       "      <td>1</td>\n",
       "      <td>1</td>\n",
       "      <td>63</td>\n",
       "      <td>0</td>\n",
       "      <td>No phone service</td>\n",
       "      <td>DSL</td>\n",
       "      <td>...</td>\n",
       "      <td>No</td>\n",
       "      <td>Yes</td>\n",
       "      <td>Yes</td>\n",
       "      <td>Dos años</td>\n",
       "      <td>0</td>\n",
       "      <td>Cheque electrónico</td>\n",
       "      <td>59.00</td>\n",
       "      <td>3707.60</td>\n",
       "      <td>1.938239</td>\n",
       "      <td>6</td>\n",
       "    </tr>\n",
       "  </tbody>\n",
       "</table>\n",
       "<p>7256 rows × 23 columns</p>\n",
       "</div>"
      ],
      "text/plain": [
       "      id_cliente  churn  género  ciudadano_mayor  pareja  dependientes  \\\n",
       "0     0002-ORFBO      0       1                0       1             1   \n",
       "1     0003-MKNFE      0       0                0       0             0   \n",
       "2     0004-TLHLJ      1       0                0       0             0   \n",
       "3     0011-IGKFF      1       0                1       1             0   \n",
       "4     0013-EXCHZ      1       1                1       1             0   \n",
       "...          ...    ...     ...              ...     ...           ...   \n",
       "7251  9987-LUTYD      0       1                0       0             0   \n",
       "7252  9992-RRAMN      1       0                0       1             0   \n",
       "7253  9992-UJOEL      0       0                0       0             0   \n",
       "7254  9993-LHIEB      0       0                0       1             1   \n",
       "7255  9995-HOTOH      0       0                0       1             1   \n",
       "\n",
       "      meses_de_contrato  servicio_telefonico multiples_lineas_telefonicas  \\\n",
       "0                     9                    1                           No   \n",
       "1                     9                    1                          Yes   \n",
       "2                     4                    1                           No   \n",
       "3                    13                    1                           No   \n",
       "4                     3                    1                           No   \n",
       "...                 ...                  ...                          ...   \n",
       "7251                 13                    1                           No   \n",
       "7252                 22                    1                          Yes   \n",
       "7253                  2                    1                           No   \n",
       "7254                 67                    1                           No   \n",
       "7255                 63                    0             No phone service   \n",
       "\n",
       "     servicio_internet  ... soporte_tecnico servicio_tv servicio_de_peliculas  \\\n",
       "0                  DSL  ...             Yes         Yes                    No   \n",
       "1                  DSL  ...              No          No                   Yes   \n",
       "2         Fibra óptica  ...              No          No                    No   \n",
       "3         Fibra óptica  ...              No         Yes                   Yes   \n",
       "4         Fibra óptica  ...             Yes         Yes                    No   \n",
       "...                ...  ...             ...         ...                   ...   \n",
       "7251               DSL  ...             Yes          No                    No   \n",
       "7252      Fibra óptica  ...              No          No                   Yes   \n",
       "7253               DSL  ...              No          No                    No   \n",
       "7254               DSL  ...             Yes          No                   Yes   \n",
       "7255               DSL  ...              No         Yes                   Yes   \n",
       "\n",
       "     tipo_de_contrato factura_en_linea       forma_de_pago cargos_mensuales  \\\n",
       "0              Un año                1   Cheque por correo            65.60   \n",
       "1           Mes a mes                0   Cheque por correo            59.90   \n",
       "2           Mes a mes                1  Cheque electrónico            73.90   \n",
       "3           Mes a mes                1  Cheque electrónico            98.00   \n",
       "4           Mes a mes                1   Cheque por correo            83.90   \n",
       "...               ...              ...                 ...              ...   \n",
       "7251           Un año                0   Cheque por correo            55.15   \n",
       "7252        Mes a mes                1  Cheque electrónico            85.10   \n",
       "7253        Mes a mes                1   Cheque por correo            50.30   \n",
       "7254         Dos años                0   Cheque por correo            67.85   \n",
       "7255         Dos años                0  Cheque electrónico            59.00   \n",
       "\n",
       "      cargos_totales cuentas_diarias  cantidad_servicios  \n",
       "0             593.30        2.155059                   5  \n",
       "1             542.40        1.967806                   4  \n",
       "2             280.85        2.427727                   3  \n",
       "3            1237.85        3.219448                   6  \n",
       "4             267.40        2.756242                   4  \n",
       "...              ...             ...                 ...  \n",
       "7251          742.90        1.811761                   4  \n",
       "7252         1873.70        2.795664                   4  \n",
       "7253           92.75        1.652431                   3  \n",
       "7254         4627.65        2.228975                   6  \n",
       "7255         3707.60        1.938239                   6  \n",
       "\n",
       "[7256 rows x 23 columns]"
      ]
     },
     "execution_count": 9,
     "metadata": {},
     "output_type": "execute_result"
    }
   ],
   "source": [
    "datos"
   ]
  },
  {
   "cell_type": "code",
   "execution_count": 10,
   "metadata": {
    "colab": {
     "base_uri": "https://localhost:8080/"
    },
    "id": "bgWdUOjK19bd",
    "outputId": "826ced5a-6246-4c4b-e086-08e049f8d5d9",
    "tags": []
   },
   "outputs": [
    {
     "name": "stdout",
     "output_type": "stream",
     "text": [
      "<class 'pandas.core.frame.DataFrame'>\n",
      "RangeIndex: 7256 entries, 0 to 7255\n",
      "Data columns (total 23 columns):\n",
      " #   Column                        Non-Null Count  Dtype  \n",
      "---  ------                        --------------  -----  \n",
      " 0   id_cliente                    7256 non-null   object \n",
      " 1   churn                         7256 non-null   int64  \n",
      " 2   género                        7256 non-null   int64  \n",
      " 3   ciudadano_mayor               7256 non-null   int64  \n",
      " 4   pareja                        7256 non-null   int64  \n",
      " 5   dependientes                  7256 non-null   int64  \n",
      " 6   meses_de_contrato             7256 non-null   int64  \n",
      " 7   servicio_telefonico           7256 non-null   int64  \n",
      " 8   multiples_lineas_telefonicas  7256 non-null   object \n",
      " 9   servicio_internet             7256 non-null   object \n",
      " 10  seguridad_online              7256 non-null   object \n",
      " 11  respaldo_online               7256 non-null   object \n",
      " 12  proteccion_del_dispositivo    7256 non-null   object \n",
      " 13  soporte_tecnico               7256 non-null   object \n",
      " 14  servicio_tv                   7256 non-null   object \n",
      " 15  servicio_de_peliculas         7256 non-null   object \n",
      " 16  tipo_de_contrato              7256 non-null   object \n",
      " 17  factura_en_linea              7256 non-null   int64  \n",
      " 18  forma_de_pago                 7256 non-null   object \n",
      " 19  cargos_mensuales              7256 non-null   float64\n",
      " 20  cargos_totales                7256 non-null   float64\n",
      " 21  cuentas_diarias               7256 non-null   float64\n",
      " 22  cantidad_servicios            7256 non-null   int64  \n",
      "dtypes: float64(3), int64(9), object(11)\n",
      "memory usage: 1.3+ MB\n"
     ]
    }
   ],
   "source": [
    "datos.info()"
   ]
  },
  {
   "cell_type": "code",
   "execution_count": 12,
   "metadata": {
    "colab": {
     "base_uri": "https://localhost:8080/",
     "height": 805
    },
    "id": "bMcVQq2h7hu0",
    "outputId": "21fbfdc0-c724-4680-9d38-2df5d6d4b186",
    "tags": []
   },
   "outputs": [
    {
     "data": {
      "text/plain": [
       "id_cliente                      0\n",
       "churn                           0\n",
       "género                          0\n",
       "ciudadano_mayor                 0\n",
       "pareja                          0\n",
       "dependientes                    0\n",
       "meses_de_contrato               0\n",
       "servicio_telefonico             0\n",
       "multiples_lineas_telefonicas    0\n",
       "servicio_internet               0\n",
       "seguridad_online                0\n",
       "respaldo_online                 0\n",
       "proteccion_del_dispositivo      0\n",
       "soporte_tecnico                 0\n",
       "servicio_tv                     0\n",
       "servicio_de_peliculas           0\n",
       "tipo_de_contrato                0\n",
       "factura_en_linea                0\n",
       "forma_de_pago                   0\n",
       "cargos_mensuales                0\n",
       "cargos_totales                  0\n",
       "cuentas_diarias                 0\n",
       "cantidad_servicios              0\n",
       "dtype: int64"
      ]
     },
     "execution_count": 12,
     "metadata": {},
     "output_type": "execute_result"
    }
   ],
   "source": [
    "datos.isnull().sum()"
   ]
  },
  {
   "cell_type": "markdown",
   "metadata": {
    "id": "oJuxvchfMi_m"
   },
   "source": [
    "# Eliminación de las Columnas Irrelevantes"
   ]
  },
  {
   "cell_type": "code",
   "execution_count": 14,
   "metadata": {
    "colab": {
     "base_uri": "https://localhost:8080/"
    },
    "id": "uMJ_prdmMjtm",
    "outputId": "cea7da07-7df8-449e-fecf-86aa79592d01",
    "tags": []
   },
   "outputs": [
    {
     "name": "stdout",
     "output_type": "stream",
     "text": [
      "churn                              2\n",
      "género                             2\n",
      "ciudadano_mayor                    2\n",
      "pareja                             2\n",
      "servicio_telefonico                2\n",
      "dependientes                       2\n",
      "factura_en_linea                   2\n",
      "servicio_internet                  3\n",
      "proteccion_del_dispositivo         3\n",
      "soporte_tecnico                    3\n",
      "seguridad_online                   3\n",
      "respaldo_online                    3\n",
      "servicio_tv                        3\n",
      "servicio_de_peliculas              3\n",
      "tipo_de_contrato                   3\n",
      "multiples_lineas_telefonicas       3\n",
      "forma_de_pago                      4\n",
      "cantidad_servicios                 9\n",
      "meses_de_contrato                 72\n",
      "cargos_mensuales                1584\n",
      "cuentas_diarias                 1584\n",
      "cargos_totales                  6530\n",
      "id_cliente                      7256\n",
      "dtype: int64\n"
     ]
    }
   ],
   "source": [
    "print(datos.nunique().sort_values())"
   ]
  },
  {
   "cell_type": "code",
   "execution_count": 15,
   "metadata": {
    "colab": {
     "base_uri": "https://localhost:8080/"
    },
    "id": "6oHQV6IdMnHW",
    "outputId": "1b1602d0-d601-4fcc-897d-0c55acfa0f2b",
    "tags": []
   },
   "outputs": [
    {
     "name": "stdout",
     "output_type": "stream",
     "text": [
      "Las columnas con valores únicos son: []\n"
     ]
    }
   ],
   "source": [
    "columnas_unicas = [col for col in datos.columns if datos[col].nunique() == 1]\n",
    "print(f'Las columnas con valores únicos son: {columnas_unicas}')"
   ]
  },
  {
   "cell_type": "code",
   "execution_count": 17,
   "metadata": {
    "colab": {
     "base_uri": "https://localhost:8080/"
    },
    "id": "AeG1XpBlMnn1",
    "outputId": "97ce2229-1cf1-4eab-edfd-e0aea84d37ee",
    "tags": []
   },
   "outputs": [
    {
     "data": {
      "text/html": [
       "<div>\n",
       "<style scoped>\n",
       "    .dataframe tbody tr th:only-of-type {\n",
       "        vertical-align: middle;\n",
       "    }\n",
       "\n",
       "    .dataframe tbody tr th {\n",
       "        vertical-align: top;\n",
       "    }\n",
       "\n",
       "    .dataframe thead th {\n",
       "        text-align: right;\n",
       "    }\n",
       "</style>\n",
       "<table border=\"1\" class=\"dataframe\">\n",
       "  <thead>\n",
       "    <tr style=\"text-align: right;\">\n",
       "      <th></th>\n",
       "      <th>churn</th>\n",
       "      <th>género</th>\n",
       "      <th>ciudadano_mayor</th>\n",
       "      <th>pareja</th>\n",
       "      <th>dependientes</th>\n",
       "      <th>meses_de_contrato</th>\n",
       "      <th>servicio_telefonico</th>\n",
       "      <th>factura_en_linea</th>\n",
       "      <th>cargos_mensuales</th>\n",
       "      <th>cargos_totales</th>\n",
       "      <th>cuentas_diarias</th>\n",
       "      <th>cantidad_servicios</th>\n",
       "    </tr>\n",
       "  </thead>\n",
       "  <tbody>\n",
       "    <tr>\n",
       "      <th>churn</th>\n",
       "      <td>1.000000</td>\n",
       "      <td>0.005066</td>\n",
       "      <td>0.144205</td>\n",
       "      <td>0.138289</td>\n",
       "      <td>0.152112</td>\n",
       "      <td>0.336071</td>\n",
       "      <td>0.008584</td>\n",
       "      <td>0.184176</td>\n",
       "      <td>0.179774</td>\n",
       "      <td>0.190198</td>\n",
       "      <td>0.179774</td>\n",
       "      <td>0.022013</td>\n",
       "    </tr>\n",
       "    <tr>\n",
       "      <th>género</th>\n",
       "      <td>0.005066</td>\n",
       "      <td>1.000000</td>\n",
       "      <td>0.004239</td>\n",
       "      <td>0.004593</td>\n",
       "      <td>0.011884</td>\n",
       "      <td>0.005936</td>\n",
       "      <td>0.006065</td>\n",
       "      <td>0.011417</td>\n",
       "      <td>0.013126</td>\n",
       "      <td>0.000488</td>\n",
       "      <td>0.013126</td>\n",
       "      <td>0.015292</td>\n",
       "    </tr>\n",
       "    <tr>\n",
       "      <th>ciudadano_mayor</th>\n",
       "      <td>0.144205</td>\n",
       "      <td>0.004239</td>\n",
       "      <td>1.000000</td>\n",
       "      <td>0.023439</td>\n",
       "      <td>0.212338</td>\n",
       "      <td>0.017333</td>\n",
       "      <td>0.009885</td>\n",
       "      <td>0.157470</td>\n",
       "      <td>0.220098</td>\n",
       "      <td>0.103499</td>\n",
       "      <td>0.220098</td>\n",
       "      <td>0.119076</td>\n",
       "    </tr>\n",
       "    <tr>\n",
       "      <th>pareja</th>\n",
       "      <td>0.138289</td>\n",
       "      <td>0.004593</td>\n",
       "      <td>0.023439</td>\n",
       "      <td>1.000000</td>\n",
       "      <td>0.448500</td>\n",
       "      <td>0.379684</td>\n",
       "      <td>0.019496</td>\n",
       "      <td>0.010303</td>\n",
       "      <td>0.098064</td>\n",
       "      <td>0.316918</td>\n",
       "      <td>0.098064</td>\n",
       "      <td>0.194140</td>\n",
       "    </tr>\n",
       "    <tr>\n",
       "      <th>dependientes</th>\n",
       "      <td>0.152112</td>\n",
       "      <td>0.011884</td>\n",
       "      <td>0.212338</td>\n",
       "      <td>0.448500</td>\n",
       "      <td>1.000000</td>\n",
       "      <td>0.163444</td>\n",
       "      <td>0.003212</td>\n",
       "      <td>0.110541</td>\n",
       "      <td>0.114345</td>\n",
       "      <td>0.063960</td>\n",
       "      <td>0.114345</td>\n",
       "      <td>0.006290</td>\n",
       "    </tr>\n",
       "    <tr>\n",
       "      <th>meses_de_contrato</th>\n",
       "      <td>0.336071</td>\n",
       "      <td>0.005936</td>\n",
       "      <td>0.017333</td>\n",
       "      <td>0.379684</td>\n",
       "      <td>0.163444</td>\n",
       "      <td>1.000000</td>\n",
       "      <td>0.009661</td>\n",
       "      <td>0.006662</td>\n",
       "      <td>0.246981</td>\n",
       "      <td>0.825118</td>\n",
       "      <td>0.246981</td>\n",
       "      <td>0.474168</td>\n",
       "    </tr>\n",
       "    <tr>\n",
       "      <th>servicio_telefonico</th>\n",
       "      <td>0.008584</td>\n",
       "      <td>0.006065</td>\n",
       "      <td>0.009885</td>\n",
       "      <td>0.019496</td>\n",
       "      <td>0.003212</td>\n",
       "      <td>0.009661</td>\n",
       "      <td>1.000000</td>\n",
       "      <td>0.013804</td>\n",
       "      <td>0.247323</td>\n",
       "      <td>0.113791</td>\n",
       "      <td>0.247323</td>\n",
       "      <td>0.082308</td>\n",
       "    </tr>\n",
       "    <tr>\n",
       "      <th>factura_en_linea</th>\n",
       "      <td>0.184176</td>\n",
       "      <td>0.011417</td>\n",
       "      <td>0.157470</td>\n",
       "      <td>0.010303</td>\n",
       "      <td>0.110541</td>\n",
       "      <td>0.006662</td>\n",
       "      <td>0.013804</td>\n",
       "      <td>1.000000</td>\n",
       "      <td>0.353503</td>\n",
       "      <td>0.159303</td>\n",
       "      <td>0.353503</td>\n",
       "      <td>0.241991</td>\n",
       "    </tr>\n",
       "    <tr>\n",
       "      <th>cargos_mensuales</th>\n",
       "      <td>0.179774</td>\n",
       "      <td>0.013126</td>\n",
       "      <td>0.220098</td>\n",
       "      <td>0.098064</td>\n",
       "      <td>0.114345</td>\n",
       "      <td>0.246981</td>\n",
       "      <td>0.247323</td>\n",
       "      <td>0.353503</td>\n",
       "      <td>1.000000</td>\n",
       "      <td>0.652109</td>\n",
       "      <td>1.000000</td>\n",
       "      <td>0.851845</td>\n",
       "    </tr>\n",
       "    <tr>\n",
       "      <th>cargos_totales</th>\n",
       "      <td>0.190198</td>\n",
       "      <td>0.000488</td>\n",
       "      <td>0.103499</td>\n",
       "      <td>0.316918</td>\n",
       "      <td>0.063960</td>\n",
       "      <td>0.825118</td>\n",
       "      <td>0.113791</td>\n",
       "      <td>0.159303</td>\n",
       "      <td>0.652109</td>\n",
       "      <td>1.000000</td>\n",
       "      <td>0.652109</td>\n",
       "      <td>0.778440</td>\n",
       "    </tr>\n",
       "    <tr>\n",
       "      <th>cuentas_diarias</th>\n",
       "      <td>0.179774</td>\n",
       "      <td>0.013126</td>\n",
       "      <td>0.220098</td>\n",
       "      <td>0.098064</td>\n",
       "      <td>0.114345</td>\n",
       "      <td>0.246981</td>\n",
       "      <td>0.247323</td>\n",
       "      <td>0.353503</td>\n",
       "      <td>1.000000</td>\n",
       "      <td>0.652109</td>\n",
       "      <td>1.000000</td>\n",
       "      <td>0.851845</td>\n",
       "    </tr>\n",
       "    <tr>\n",
       "      <th>cantidad_servicios</th>\n",
       "      <td>0.022013</td>\n",
       "      <td>0.015292</td>\n",
       "      <td>0.119076</td>\n",
       "      <td>0.194140</td>\n",
       "      <td>0.006290</td>\n",
       "      <td>0.474168</td>\n",
       "      <td>0.082308</td>\n",
       "      <td>0.241991</td>\n",
       "      <td>0.851845</td>\n",
       "      <td>0.778440</td>\n",
       "      <td>0.851845</td>\n",
       "      <td>1.000000</td>\n",
       "    </tr>\n",
       "  </tbody>\n",
       "</table>\n",
       "</div>"
      ],
      "text/plain": [
       "                        churn    género  ciudadano_mayor    pareja  \\\n",
       "churn                1.000000  0.005066         0.144205  0.138289   \n",
       "género               0.005066  1.000000         0.004239  0.004593   \n",
       "ciudadano_mayor      0.144205  0.004239         1.000000  0.023439   \n",
       "pareja               0.138289  0.004593         0.023439  1.000000   \n",
       "dependientes         0.152112  0.011884         0.212338  0.448500   \n",
       "meses_de_contrato    0.336071  0.005936         0.017333  0.379684   \n",
       "servicio_telefonico  0.008584  0.006065         0.009885  0.019496   \n",
       "factura_en_linea     0.184176  0.011417         0.157470  0.010303   \n",
       "cargos_mensuales     0.179774  0.013126         0.220098  0.098064   \n",
       "cargos_totales       0.190198  0.000488         0.103499  0.316918   \n",
       "cuentas_diarias      0.179774  0.013126         0.220098  0.098064   \n",
       "cantidad_servicios   0.022013  0.015292         0.119076  0.194140   \n",
       "\n",
       "                     dependientes  meses_de_contrato  servicio_telefonico  \\\n",
       "churn                    0.152112           0.336071             0.008584   \n",
       "género                   0.011884           0.005936             0.006065   \n",
       "ciudadano_mayor          0.212338           0.017333             0.009885   \n",
       "pareja                   0.448500           0.379684             0.019496   \n",
       "dependientes             1.000000           0.163444             0.003212   \n",
       "meses_de_contrato        0.163444           1.000000             0.009661   \n",
       "servicio_telefonico      0.003212           0.009661             1.000000   \n",
       "factura_en_linea         0.110541           0.006662             0.013804   \n",
       "cargos_mensuales         0.114345           0.246981             0.247323   \n",
       "cargos_totales           0.063960           0.825118             0.113791   \n",
       "cuentas_diarias          0.114345           0.246981             0.247323   \n",
       "cantidad_servicios       0.006290           0.474168             0.082308   \n",
       "\n",
       "                     factura_en_linea  cargos_mensuales  cargos_totales  \\\n",
       "churn                        0.184176          0.179774        0.190198   \n",
       "género                       0.011417          0.013126        0.000488   \n",
       "ciudadano_mayor              0.157470          0.220098        0.103499   \n",
       "pareja                       0.010303          0.098064        0.316918   \n",
       "dependientes                 0.110541          0.114345        0.063960   \n",
       "meses_de_contrato            0.006662          0.246981        0.825118   \n",
       "servicio_telefonico          0.013804          0.247323        0.113791   \n",
       "factura_en_linea             1.000000          0.353503        0.159303   \n",
       "cargos_mensuales             0.353503          1.000000        0.652109   \n",
       "cargos_totales               0.159303          0.652109        1.000000   \n",
       "cuentas_diarias              0.353503          1.000000        0.652109   \n",
       "cantidad_servicios           0.241991          0.851845        0.778440   \n",
       "\n",
       "                     cuentas_diarias  cantidad_servicios  \n",
       "churn                       0.179774            0.022013  \n",
       "género                      0.013126            0.015292  \n",
       "ciudadano_mayor             0.220098            0.119076  \n",
       "pareja                      0.098064            0.194140  \n",
       "dependientes                0.114345            0.006290  \n",
       "meses_de_contrato           0.246981            0.474168  \n",
       "servicio_telefonico         0.247323            0.082308  \n",
       "factura_en_linea            0.353503            0.241991  \n",
       "cargos_mensuales            1.000000            0.851845  \n",
       "cargos_totales              0.652109            0.778440  \n",
       "cuentas_diarias             1.000000            0.851845  \n",
       "cantidad_servicios          0.851845            1.000000  "
      ]
     },
     "execution_count": 17,
     "metadata": {},
     "output_type": "execute_result"
    }
   ],
   "source": [
    "correlacion = datos.select_dtypes(include=['float64', 'int64']).corr().abs()\n",
    "correlacion"
   ]
  },
  {
   "cell_type": "markdown",
   "metadata": {
    "id": "cHZJwW1sMnlQ",
    "tags": []
   },
   "source": [
    "Dado que cuentas_diarias y cargos_mensuales tienen la misma correlatividad, conviene eliminar cuentas_diarias.  \n",
    "Otras columnas que se eliminarán serán id_cliente porque tiene identificadores únicos y cantidad_servicios por su alta correlación en columnas irrelevantes para relacionarlas con churn.  \n",
    "También, otras columnas que se eliminará por su baja correlacion con churn y el resto de columnas serán servicio_telefonico y género.  \n",
    "Si bien cargos_totales puede ser útil con churn, su multicolinealidad del 0.82 con meses_de_contrato la hace una columna inviable para el modelo.  "
   ]
  },
  {
   "cell_type": "code",
   "execution_count": 20,
   "metadata": {
    "colab": {
     "base_uri": "https://localhost:8080/"
    },
    "id": "halwRKDdMnix",
    "outputId": "fa93c237-311d-4187-aa14-456f421fa329",
    "tags": []
   },
   "outputs": [
    {
     "name": "stdout",
     "output_type": "stream",
     "text": [
      "<class 'pandas.core.frame.DataFrame'>\n",
      "RangeIndex: 7256 entries, 0 to 7255\n",
      "Data columns (total 17 columns):\n",
      " #   Column                        Non-Null Count  Dtype  \n",
      "---  ------                        --------------  -----  \n",
      " 0   churn                         7256 non-null   int64  \n",
      " 1   ciudadano_mayor               7256 non-null   int64  \n",
      " 2   pareja                        7256 non-null   int64  \n",
      " 3   dependientes                  7256 non-null   int64  \n",
      " 4   meses_de_contrato             7256 non-null   int64  \n",
      " 5   multiples_lineas_telefonicas  7256 non-null   object \n",
      " 6   servicio_internet             7256 non-null   object \n",
      " 7   seguridad_online              7256 non-null   object \n",
      " 8   respaldo_online               7256 non-null   object \n",
      " 9   proteccion_del_dispositivo    7256 non-null   object \n",
      " 10  soporte_tecnico               7256 non-null   object \n",
      " 11  servicio_tv                   7256 non-null   object \n",
      " 12  servicio_de_peliculas         7256 non-null   object \n",
      " 13  tipo_de_contrato              7256 non-null   object \n",
      " 14  factura_en_linea              7256 non-null   int64  \n",
      " 15  forma_de_pago                 7256 non-null   object \n",
      " 16  cargos_mensuales              7256 non-null   float64\n",
      "dtypes: float64(1), int64(6), object(10)\n",
      "memory usage: 963.8+ KB\n"
     ]
    }
   ],
   "source": [
    "df_reducido = datos.drop(columns = ['id_cliente', 'cuentas_diarias', 'cantidad_servicios', 'servicio_telefonico', 'cargos_totales', 'género'])\n",
    "df_reducido.info()"
   ]
  },
  {
   "cell_type": "markdown",
   "metadata": {
    "id": "TfQ9NkfGfkP9"
   },
   "source": [
    "# ***Verificación de la Proporción de Cancelación (Churn)***"
   ]
  },
  {
   "cell_type": "code",
   "execution_count": 22,
   "metadata": {
    "colab": {
     "base_uri": "https://localhost:8080/"
    },
    "id": "zMyhWpPJmWQ0",
    "outputId": "40f7b582-e50c-47c7-ef69-74fdc28afb80",
    "tags": []
   },
   "outputs": [
    {
     "name": "stdout",
     "output_type": "stream",
     "text": [
      "Defaulting to user installation because normal site-packages is not writeable\n",
      "Collecting seaborn\n",
      "  Using cached seaborn-0.13.2-py3-none-any.whl.metadata (5.4 kB)\n",
      "Requirement already satisfied: numpy!=1.24.0,>=1.20 in c:\\users\\cesar\\appdata\\roaming\\python\\python313\\site-packages (from seaborn) (2.3.1)\n",
      "Requirement already satisfied: pandas>=1.2 in c:\\users\\cesar\\appdata\\roaming\\python\\python313\\site-packages (from seaborn) (2.3.1)\n",
      "Requirement already satisfied: matplotlib!=3.6.1,>=3.4 in c:\\users\\cesar\\appdata\\roaming\\python\\python313\\site-packages (from seaborn) (3.10.3)\n",
      "Requirement already satisfied: contourpy>=1.0.1 in c:\\users\\cesar\\appdata\\roaming\\python\\python313\\site-packages (from matplotlib!=3.6.1,>=3.4->seaborn) (1.3.2)\n",
      "Requirement already satisfied: cycler>=0.10 in c:\\users\\cesar\\appdata\\roaming\\python\\python313\\site-packages (from matplotlib!=3.6.1,>=3.4->seaborn) (0.12.1)\n",
      "Requirement already satisfied: fonttools>=4.22.0 in c:\\users\\cesar\\appdata\\roaming\\python\\python313\\site-packages (from matplotlib!=3.6.1,>=3.4->seaborn) (4.59.0)\n",
      "Requirement already satisfied: kiwisolver>=1.3.1 in c:\\users\\cesar\\appdata\\roaming\\python\\python313\\site-packages (from matplotlib!=3.6.1,>=3.4->seaborn) (1.4.8)\n",
      "Requirement already satisfied: packaging>=20.0 in c:\\users\\cesar\\appdata\\roaming\\python\\python313\\site-packages (from matplotlib!=3.6.1,>=3.4->seaborn) (25.0)\n",
      "Requirement already satisfied: pillow>=8 in c:\\users\\cesar\\appdata\\roaming\\python\\python313\\site-packages (from matplotlib!=3.6.1,>=3.4->seaborn) (11.3.0)\n",
      "Requirement already satisfied: pyparsing>=2.3.1 in c:\\users\\cesar\\appdata\\roaming\\python\\python313\\site-packages (from matplotlib!=3.6.1,>=3.4->seaborn) (3.2.3)\n",
      "Requirement already satisfied: python-dateutil>=2.7 in c:\\users\\cesar\\appdata\\roaming\\python\\python313\\site-packages (from matplotlib!=3.6.1,>=3.4->seaborn) (2.9.0.post0)\n",
      "Requirement already satisfied: pytz>=2020.1 in c:\\users\\cesar\\appdata\\roaming\\python\\python313\\site-packages (from pandas>=1.2->seaborn) (2025.2)\n",
      "Requirement already satisfied: tzdata>=2022.7 in c:\\users\\cesar\\appdata\\roaming\\python\\python313\\site-packages (from pandas>=1.2->seaborn) (2025.2)\n",
      "Requirement already satisfied: six>=1.5 in c:\\users\\cesar\\appdata\\roaming\\python\\python313\\site-packages (from python-dateutil>=2.7->matplotlib!=3.6.1,>=3.4->seaborn) (1.17.0)\n",
      "Downloading seaborn-0.13.2-py3-none-any.whl (294 kB)\n",
      "Installing collected packages: seaborn\n",
      "Successfully installed seaborn-0.13.2\n"
     ]
    },
    {
     "data": {
      "image/png": "[encoded data removed]",
      "text/plain": [
       "<Figure size 700x700 with 1 Axes>"
      ]
     },
     "metadata": {},
     "output_type": "display_data"
    }
   ],
   "source": [
    "!pip install seaborn\n",
    "import seaborn as sns\n",
    "import matplotlib.pyplot as plt\n",
    "\n",
    "valores = df_reducido['churn'].value_counts()\n",
    "porcentajes = df_reducido['churn'].value_counts(normalize=True) * 100\n",
    "\n",
    "df_aux = df_reducido['churn'].map({0: 'Permanece', 1: 'Abandonó'}).to_frame(name='Estado')\n",
    "sns.set_style(\"whitegrid\")\n",
    "plt.figure(figsize=(7, 7))\n",
    "colores = ['#0083d5', '#d56e00']\n",
    "\n",
    "ax = sns.countplot(x='Estado', data=df_aux, color=None)\n",
    "for patch, color in zip(ax.patches, colores):\n",
    "    patch.set_facecolor(color)\n",
    "\n",
    "plt.title('PROPORCIÓN DE CANCELACIÓN (CHURN)', fontsize=14, fontweight='bold', loc='center')\n",
    "plt.xlabel('ESTADO DEL CLIENTE', fontsize=10, fontweight='bold')\n",
    "plt.ylabel('NÚMERO DE CLIENTES', fontsize=10, fontweight='bold')\n",
    "\n",
    "for p in ax.patches:\n",
    "    cantidad = int(p.get_height())\n",
    "    porcentaje = cantidad / len(df_reducido['churn']) * 100\n",
    "    ax.annotate(f'{cantidad} / {porcentaje:.1f}%',\n",
    "                (p.get_x() + p.get_width() / 2., p.get_height()),\n",
    "                ha='center', va='bottom', fontsize=10, color='black',\n",
    "                xytext=(0, 1), textcoords='offset points')\n",
    "\n",
    "plt.tight_layout()\n",
    "plt.show()"
   ]
  },
  {
   "cell_type": "markdown",
   "metadata": {
    "id": "aQYsoKI7Xpqo"
   },
   "source": [
    "# ***Análisis de Correlación***"
   ]
  },
  {
   "cell_type": "code",
   "execution_count": 23,
   "metadata": {
    "id": "85YiJyKsYQaF",
    "tags": []
   },
   "outputs": [],
   "source": [
    "df_corr = df_reducido.select_dtypes(include=['float64', 'int64']).corr().abs()"
   ]
  },
  {
   "cell_type": "code",
   "execution_count": 24,
   "metadata": {
    "colab": {
     "base_uri": "https://localhost:8080/"
    },
    "id": "RaWUH2ryZq6V",
    "outputId": "73724592-f5b2-4613-cbdc-ef24ce35ef5d",
    "tags": []
   },
   "outputs": [
    {
     "data": {
      "application/vnd.plotly.v1+json": {
       "config": {
        "plotlyServerURL": "https://plot.ly"
       },
       "data": [
        {
         "coloraxis": "coloraxis",
         "hovertemplate": "x: %{x}<br>y: %{y}<br>color: %{z}<extra></extra>",
         "name": "0",
         "texttemplate": "%{z:.2f}",
         "type": "heatmap",
         "x": [
          "churn",
          "ciudadano_mayor",
          "pareja",
          "dependientes",
          "meses_de_contrato",
          "factura_en_linea",
          "cargos_mensuales"
         ],
         "xaxis": "x",
         "y": [
          "churn",
          "ciudadano_mayor",
          "pareja",
          "dependientes",
          "meses_de_contrato",
          "factura_en_linea",
          "cargos_mensuales"
         ],
         "yaxis": "y",
         "z": {
          "_inputArray": [
           {
            "0": 1,
            "1": 0.14420490813628054,
            "2": 0.1382889053117154,
            "3": 0.1521116402033585,
            "4": 0.33607137255219954,
            "5": 0.1841759271120018,
            "6": 0.17977436551215317
           },
           {
            "0": 0.14420490813628054,
            "1": 1,
            "2": 0.02343908119293089,
            "3": 0.212338115112781,
            "4": 0.01733311050217321,
            "5": 0.157470230066625,
            "6": 0.22009792106781734
           },
           {
            "0": 0.1382889053117154,
            "1": 0.02343908119293089,
            "2": 1,
            "3": 0.44849954869379544,
            "4": 0.37968424436938525,
            "5": 0.010302611865081785,
            "6": 0.09806358760016567
           },
           {
            "0": 0.1521116402033585,
            "1": 0.212338115112781,
            "2": 0.44849954869379544,
            "3": 1,
            "4": 0.16344364617535626,
            "5": 0.11054127076765709,
            "6": 0.11434486258082412
           },
           {
            "0": 0.33607137255219954,
            "1": 0.01733311050217321,
            "2": 0.37968424436938525,
            "3": 0.16344364617535626,
            "4": 1,
            "5": 0.006662386375337689,
            "6": 0.24698127748439322
           },
           {
            "0": 0.1841759271120018,
            "1": 0.157470230066625,
            "2": 0.010302611865081785,
            "3": 0.11054127076765709,
            "4": 0.006662386375337689,
            "5": 1,
            "6": 0.35350347168731433
           },
           {
            "0": 0.17977436551215317,
            "1": 0.22009792106781734,
            "2": 0.09806358760016567,
            "3": 0.11434486258082412,
            "4": 0.24698127748439322,
            "5": 0.35350347168731433,
            "6": 1
           }
          ],
          "bdata": "AAAAAAAA8D/tGi9yTnXCP5pS22pzs8E/AtYB7GR4wz8k8o6AMYLVPxgJ1KcTk8c/I1VErtgCxz/tGi9yTnXCPwAAAAAAAPA/lw2wHGoAmD9QRQ025S3LP7qp+lrFv5E/dWgdCPwnxD/YsXMuKyzMP5pS22pzs8E/lw2wHGoAmD8AAAAAAADwP3NHenM3tNw/794XJb9M2D+X9jAoiRmFPwLQq/2xGrk/AtYB7GR4wz9QRQ025S3LP3NHenM3tNw/AAAAAAAA8D+N9IetuOvEP5kszsZuTLw/oRBAdbRFvT8k8o6AMYLVP7qp+lrFv5E/794XJb9M2D+N9IetuOvEPwAAAAAAAPA/FrmGuQRKez/Th8IeFZ3PPxgJ1KcTk8c/dWgdCPwnxD+X9jAoiRmFP5kszsZuTLw/FrmGuQRKez8AAAAAAADwP7bYegbNn9Y/I1VErtgCxz/YsXMuKyzMPwLQq/2xGrk/oRBAdbRFvT/Th8IeFZ3PP7bYegbNn9Y/AAAAAAAA8D8=",
          "dtype": "f8",
          "shape": "7, 7"
         }
        }
       ],
       "layout": {
        "autosize": true,
        "coloraxis": {
         "colorscale": [
          [
           0,
           "#440154"
          ],
          [
           0.1111111111111111,
           "#482878"
          ],
          [
           0.2222222222222222,
           "#3e4989"
          ],
          [
           0.3333333333333333,
           "#31688e"
          ],
          [
           0.4444444444444444,
           "#26828e"
          ],
          [
           0.5555555555555556,
           "#1f9e89"
          ],
          [
           0.6666666666666666,
           "#35b779"
          ],
          [
           0.7777777777777778,
           "#6ece58"
          ],
          [
           0.8888888888888888,
           "#b5de2b"
          ],
          [
           1,
           "#fde725"
          ]
         ]
        },
        "margin": {
         "b": 40,
         "l": 40,
         "r": 40,
         "t": 60
        },
        "template": {
         "data": {
          "bar": [
           {
            "error_x": {
             "color": "#2a3f5f"
            },
            "error_y": {
             "color": "#2a3f5f"
            },
            "marker": {
             "line": {
              "color": "#E5ECF6",
              "width": 0.5
             },
             "pattern": {
              "fillmode": "overlay",
              "size": 10,
              "solidity": 0.2
             }
            },
            "type": "bar"
           }
          ],
          "barpolar": [
           {
            "marker": {
             "line": {
              "color": "#E5ECF6",
              "width": 0.5
             },
             "pattern": {
              "fillmode": "overlay",
              "size": 10,
              "solidity": 0.2
             }
            },
            "type": "barpolar"
           }
          ],
          "carpet": [
           {
            "aaxis": {
             "endlinecolor": "#2a3f5f",
             "gridcolor": "white",
             "linecolor": "white",
             "minorgridcolor": "white",
             "startlinecolor": "#2a3f5f"
            },
            "baxis": {
             "endlinecolor": "#2a3f5f",
             "gridcolor": "white",
             "linecolor": "white",
             "minorgridcolor": "white",
             "startlinecolor": "#2a3f5f"
            },
            "type": "carpet"
           }
          ],
          "choropleth": [
           {
            "colorbar": {
             "outlinewidth": 0,
             "ticks": ""
            },
            "type": "choropleth"
           }
          ],
          "contour": [
           {
            "colorbar": {
             "outlinewidth": 0,
             "ticks": ""
            },
            "colorscale": [
             [
              0,
              "#0d0887"
             ],
             [
              0.1111111111111111,
              "#46039f"
             ],
             [
              0.2222222222222222,
              "#7201a8"
             ],
             [
              0.3333333333333333,
              "#9c179e"
             ],
             [
              0.4444444444444444,
              "#bd3786"
             ],
             [
              0.5555555555555556,
              "#d8576b"
             ],
             [
              0.6666666666666666,
              "#ed7953"
             ],
             [
              0.7777777777777778,
              "#fb9f3a"
             ],
             [
              0.8888888888888888,
              "#fdca26"
             ],
             [
              1,
              "#f0f921"
             ]
            ],
            "type": "contour"
           }
          ],
          "contourcarpet": [
           {
            "colorbar": {
             "outlinewidth": 0,
             "ticks": ""
            },
            "type": "contourcarpet"
           }
          ],
          "heatmap": [
           {
            "colorbar": {
             "outlinewidth": 0,
             "ticks": ""
            },
            "colorscale": [
             [
              0,
              "#0d0887"
             ],
             [
              0.1111111111111111,
              "#46039f"
             ],
             [
              0.2222222222222222,
              "#7201a8"
             ],
             [
              0.3333333333333333,
              "#9c179e"
             ],
             [
              0.4444444444444444,
              "#bd3786"
             ],
             [
              0.5555555555555556,
              "#d8576b"
             ],
             [
              0.6666666666666666,
              "#ed7953"
             ],
             [
              0.7777777777777778,
              "#fb9f3a"
             ],
             [
              0.8888888888888888,
              "#fdca26"
             ],
             [
              1,
              "#f0f921"
             ]
            ],
            "type": "heatmap"
           }
          ],
          "histogram": [
           {
            "marker": {
             "pattern": {
              "fillmode": "overlay",
              "size": 10,
              "solidity": 0.2
             }
            },
            "type": "histogram"
           }
          ],
          "histogram2d": [
           {
            "colorbar": {
             "outlinewidth": 0,
             "ticks": ""
            },
            "colorscale": [
             [
              0,
              "#0d0887"
             ],
             [
              0.1111111111111111,
              "#46039f"
             ],
             [
              0.2222222222222222,
              "#7201a8"
             ],
             [
              0.3333333333333333,
              "#9c179e"
             ],
             [
              0.4444444444444444,
              "#bd3786"
             ],
             [
              0.5555555555555556,
              "#d8576b"
             ],
             [
              0.6666666666666666,
              "#ed7953"
             ],
             [
              0.7777777777777778,
              "#fb9f3a"
             ],
             [
              0.8888888888888888,
              "#fdca26"
             ],
             [
              1,
              "#f0f921"
             ]
            ],
            "type": "histogram2d"
           }
          ],
          "histogram2dcontour": [
           {
            "colorbar": {
             "outlinewidth": 0,
             "ticks": ""
            },
            "colorscale": [
             [
              0,
              "#0d0887"
             ],
             [
              0.1111111111111111,
              "#46039f"
             ],
             [
              0.2222222222222222,
              "#7201a8"
             ],
             [
              0.3333333333333333,
              "#9c179e"
             ],
             [
              0.4444444444444444,
              "#bd3786"
             ],
             [
              0.5555555555555556,
              "#d8576b"
             ],
             [
              0.6666666666666666,
              "#ed7953"
             ],
             [
              0.7777777777777778,
              "#fb9f3a"
             ],
             [
              0.8888888888888888,
              "#fdca26"
             ],
             [
              1,
              "#f0f921"
             ]
            ],
            "type": "histogram2dcontour"
           }
          ],
          "mesh3d": [
           {
            "colorbar": {
             "outlinewidth": 0,
             "ticks": ""
            },
            "type": "mesh3d"
           }
          ],
          "parcoords": [
           {
            "line": {
             "colorbar": {
              "outlinewidth": 0,
              "ticks": ""
             }
            },
            "type": "parcoords"
           }
          ],
          "pie": [
           {
            "automargin": true,
            "type": "pie"
           }
          ],
          "scatter": [
           {
            "fillpattern": {
             "fillmode": "overlay",
             "size": 10,
             "solidity": 0.2
            },
            "type": "scatter"
           }
          ],
          "scatter3d": [
           {
            "line": {
             "colorbar": {
              "outlinewidth": 0,
              "ticks": ""
             }
            },
            "marker": {
             "colorbar": {
              "outlinewidth": 0,
              "ticks": ""
             }
            },
            "type": "scatter3d"
           }
          ],
          "scattercarpet": [
           {
            "marker": {
             "colorbar": {
              "outlinewidth": 0,
              "ticks": ""
             }
            },
            "type": "scattercarpet"
           }
          ],
          "scattergeo": [
           {
            "marker": {
             "colorbar": {
              "outlinewidth": 0,
              "ticks": ""
             }
            },
            "type": "scattergeo"
           }
          ],
          "scattergl": [
           {
            "marker": {
             "colorbar": {
              "outlinewidth": 0,
              "ticks": ""
             }
            },
            "type": "scattergl"
           }
          ],
          "scattermap": [
           {
            "marker": {
             "colorbar": {
              "outlinewidth": 0,
              "ticks": ""
             }
            },
            "type": "scattermap"
           }
          ],
          "scattermapbox": [
           {
            "marker": {
             "colorbar": {
              "outlinewidth": 0,
              "ticks": ""
             }
            },
            "type": "scattermapbox"
           }
          ],
          "scatterpolar": [
           {
            "marker": {
             "colorbar": {
              "outlinewidth": 0,
              "ticks": ""
             }
            },
            "type": "scatterpolar"
           }
          ],
          "scatterpolargl": [
           {
            "marker": {
             "colorbar": {
              "outlinewidth": 0,
              "ticks": ""
             }
            },
            "type": "scatterpolargl"
           }
          ],
          "scatterternary": [
           {
            "marker": {
             "colorbar": {
              "outlinewidth": 0,
              "ticks": ""
             }
            },
            "type": "scatterternary"
           }
          ],
          "surface": [
           {
            "colorbar": {
             "outlinewidth": 0,
             "ticks": ""
            },
            "colorscale": [
             [
              0,
              "#0d0887"
             ],
             [
              0.1111111111111111,
              "#46039f"
             ],
             [
              0.2222222222222222,
              "#7201a8"
             ],
             [
              0.3333333333333333,
              "#9c179e"
             ],
             [
              0.4444444444444444,
              "#bd3786"
             ],
             [
              0.5555555555555556,
              "#d8576b"
             ],
             [
              0.6666666666666666,
              "#ed7953"
             ],
             [
              0.7777777777777778,
              "#fb9f3a"
             ],
             [
              0.8888888888888888,
              "#fdca26"
             ],
             [
              1,
              "#f0f921"
             ]
            ],
            "type": "surface"
           }
          ],
          "table": [
           {
            "cells": {
             "fill": {
              "color": "#EBF0F8"
             },
             "line": {
              "color": "white"
             }
            },
            "header": {
             "fill": {
              "color": "#C8D4E3"
             },
             "line": {
              "color": "white"
             }
            },
            "type": "table"
           }
          ]
         },
         "layout": {
          "annotationdefaults": {
           "arrowcolor": "#2a3f5f",
           "arrowhead": 0,
           "arrowwidth": 1
          },
          "autotypenumbers": "strict",
          "coloraxis": {
           "colorbar": {
            "outlinewidth": 0,
            "ticks": ""
           }
          },
          "colorscale": {
           "diverging": [
            [
             0,
             "#8e0152"
            ],
            [
             0.1,
             "#c51b7d"
            ],
            [
             0.2,
             "#de77ae"
            ],
            [
             0.3,
             "#f1b6da"
            ],
            [
             0.4,
             "#fde0ef"
            ],
            [
             0.5,
             "#f7f7f7"
            ],
            [
             0.6,
             "#e6f5d0"
            ],
            [
             0.7,
             "#b8e186"
            ],
            [
             0.8,
             "#7fbc41"
            ],
            [
             0.9,
             "#4d9221"
            ],
            [
             1,
             "#276419"
            ]
           ],
           "sequential": [
            [
             0,
             "#0d0887"
            ],
            [
             0.1111111111111111,
             "#46039f"
            ],
            [
             0.2222222222222222,
             "#7201a8"
            ],
            [
             0.3333333333333333,
             "#9c179e"
            ],
            [
             0.4444444444444444,
             "#bd3786"
            ],
            [
             0.5555555555555556,
             "#d8576b"
            ],
            [
             0.6666666666666666,
             "#ed7953"
            ],
            [
             0.7777777777777778,
             "#fb9f3a"
            ],
            [
             0.8888888888888888,
             "#fdca26"
            ],
            [
             1,
             "#f0f921"
            ]
           ],
           "sequentialminus": [
            [
             0,
             "#0d0887"
            ],
            [
             0.1111111111111111,
             "#46039f"
            ],
            [
             0.2222222222222222,
             "#7201a8"
            ],
            [
             0.3333333333333333,
             "#9c179e"
            ],
            [
             0.4444444444444444,
             "#bd3786"
            ],
            [
             0.5555555555555556,
             "#d8576b"
            ],
            [
             0.6666666666666666,
             "#ed7953"
            ],
            [
             0.7777777777777778,
             "#fb9f3a"
            ],
            [
             0.8888888888888888,
             "#fdca26"
            ],
            [
             1,
             "#f0f921"
            ]
           ]
          },
          "colorway": [
           "#636efa",
           "#EF553B",
           "#00cc96",
           "#ab63fa",
           "#FFA15A",
           "#19d3f3",
           "#FF6692",
           "#B6E880",
           "#FF97FF",
           "#FECB52"
          ],
          "font": {
           "color": "#2a3f5f"
          },
          "geo": {
           "bgcolor": "white",
           "lakecolor": "white",
           "landcolor": "#E5ECF6",
           "showlakes": true,
           "showland": true,
           "subunitcolor": "white"
          },
          "hoverlabel": {
           "align": "left"
          },
          "hovermode": "closest",
          "mapbox": {
           "style": "light"
          },
          "paper_bgcolor": "white",
          "plot_bgcolor": "#E5ECF6",
          "polar": {
           "angularaxis": {
            "gridcolor": "white",
            "linecolor": "white",
            "ticks": ""
           },
           "bgcolor": "#E5ECF6",
           "radialaxis": {
            "gridcolor": "white",
            "linecolor": "white",
            "ticks": ""
           }
          },
          "scene": {
           "xaxis": {
            "backgroundcolor": "#E5ECF6",
            "gridcolor": "white",
            "gridwidth": 2,
            "linecolor": "white",
            "showbackground": true,
            "ticks": "",
            "zerolinecolor": "white"
           },
           "yaxis": {
            "backgroundcolor": "#E5ECF6",
            "gridcolor": "white",
            "gridwidth": 2,
            "linecolor": "white",
            "showbackground": true,
            "ticks": "",
            "zerolinecolor": "white"
           },
           "zaxis": {
            "backgroundcolor": "#E5ECF6",
            "gridcolor": "white",
            "gridwidth": 2,
            "linecolor": "white",
            "showbackground": true,
            "ticks": "",
            "zerolinecolor": "white"
           }
          },
          "shapedefaults": {
           "line": {
            "color": "#2a3f5f"
           }
          },
          "ternary": {
           "aaxis": {
            "gridcolor": "white",
            "linecolor": "white",
            "ticks": ""
           },
           "baxis": {
            "gridcolor": "white",
            "linecolor": "white",
            "ticks": ""
           },
           "bgcolor": "#E5ECF6",
           "caxis": {
            "gridcolor": "white",
            "linecolor": "white",
            "ticks": ""
           }
          },
          "title": {
           "x": 0.05
          },
          "xaxis": {
           "automargin": true,
           "gridcolor": "white",
           "linecolor": "white",
           "ticks": "",
           "title": {
            "standoff": 15
           },
           "zerolinecolor": "white",
           "zerolinewidth": 2
          },
          "yaxis": {
           "automargin": true,
           "gridcolor": "white",
           "linecolor": "white",
           "ticks": "",
           "title": {
            "standoff": 15
           },
           "zerolinecolor": "white",
           "zerolinewidth": 2
          }
         }
        },
        "title": {
         "text": "MATRIZ DE CORRELACIÓN"
        },
        "xaxis": {
         "anchor": "y",
         "autorange": true,
         "domain": [
          0,
          1
         ],
         "range": [
          -0.5,
          6.5
         ],
         "type": "category"
        },
        "yaxis": {
         "anchor": "x",
         "autorange": true,
         "domain": [
          0,
          1
         ],
         "range": [
          6.5,
          -0.5
         ],
         "type": "category"
        }
       }
      },
      "image/png": "[encoded data removed]"
     },
     "metadata": {},
     "output_type": "display_data"
    }
   ],
   "source": [
    "import plotly.express as px\n",
    "\n",
    "fig = px.imshow(\n",
    "    df_corr,\n",
    "    text_auto=\".2f\",\n",
    "    color_continuous_scale=\"viridis\",\n",
    "    aspect=\"auto\",\n",
    "    title=\"MATRIZ DE CORRELACIÓN\"\n",
    ")\n",
    "fig.update_layout(margin=dict(l=40, r=40, t=60, b=40))\n",
    "fig.show()"
   ]
  },
  {
   "cell_type": "markdown",
   "metadata": {
    "id": "4D3t621fkIIR",
    "tags": []
   },
   "source": [
    "Al analizar la primera columna de la matriz, se puede identificar claramente los factores más influyentes.  \n",
    "El predictor principal es meses_de_contrato con una correlación del 0.34. La interpretación es que a mayor antigüedad, menor es la probabilidad de cancelar.  \n",
    "Después hay predictores secundarios cuyo impacto es moderado. Por ejemplo: cargos_mensuales y factura_en_linea (ambas con 0.18) mantienen un peso considerable.  \n",
    "Ambos intuyen que los clientes con cargos más altos o con factura online tienen una leve tendencia mayor a cancelar.  \n",
    "El grupo de variables demográficas ahora tiene más protagonismo (dependientes con 0.15, pareja con 0.14 y ciudadano_mayor con 0.14), aunque su impacto individual es débil.  \n",
    "En conjunto le dan al modelo un perfil claro del cliente. Por ejemplo: Ser un ciudadano mayor, tener pareja o dependientes tiene una influencia positiva muy leve en la probabilidad de abandono.  \n",
    "  \n",
    "Otras conclusiones a sacar son que la correlación más fuerte en toda la matriz es entre pareja y dependientes con 0.45, por lo que quienen tengan pareja son más propensos a tener dependientes.  \n",
    "Otra correlación moderada es entre pareja y meses_de_contrato con 0.38, esto sugiere que los clientes con pareja tienden a tener contratos de mayor duración.  \n",
    "Y por último, la correlación entre factura_en_linea y cargos_mensuales es moderada con 0.35, eso indica que los clientes con cargos mensuales más altos son más propensos a usar la facturación en línea.  "
   ]
  },
  {
   "cell_type": "markdown",
   "metadata": {
    "id": "2JSzaC_VXLoB"
   },
   "source": [
    "# ***Análisis Dirigido***"
   ]
  },
  {
   "cell_type": "code",
   "execution_count": 26,
   "metadata": {
    "colab": {
     "base_uri": "https://localhost:8080/"
    },
    "id": "XAf5UESheP9X",
    "outputId": "6d94fceb-adea-4257-e2c3-2fc6e49733e3",
    "tags": []
   },
   "outputs": [
    {
     "data": {
      "image/png": "[encoded data removed]",
      "text/plain": [
       "<Figure size 700x600 with 1 Axes>"
      ]
     },
     "metadata": {},
     "output_type": "display_data"
    }
   ],
   "source": [
    "from matplotlib.lines import Line2D\n",
    "\n",
    "sns.set(style=\"whitegrid\")\n",
    "plt.figure(figsize=(7, 6))\n",
    "\n",
    "ax = sns.boxplot(\n",
    "    data=df_reducido,\n",
    "    x='churn',\n",
    "    y='meses_de_contrato',\n",
    "    hue='churn',\n",
    "    palette={0: '#0083d5', 1: '#d56e00'},\n",
    "    legend=False,\n",
    "    medianprops={'linewidth': 2}\n",
    ")\n",
    "\n",
    "for i, (name, group) in enumerate(df_reducido.groupby('churn')):\n",
    "    ax.hlines(\n",
    "        y=group['meses_de_contrato'].mean(),\n",
    "        xmin=i - 0.4,\n",
    "        xmax=i + 0.4,\n",
    "        color='cyan',\n",
    "        linestyle='--',\n",
    "        linewidth = 2\n",
    "    )\n",
    "\n",
    "plt.title(\"DISTRIBUCIÓN DE LOS MESES DE CONTRATO SEGÚN LA CANCELACIÓN\", fontsize=14, fontweight='bold', loc = 'center')\n",
    "plt.xlabel(\"ESTADO DEL CLIENTE\", fontsize=12, fontweight='bold')\n",
    "plt.ylabel(\"MESES DE CONTRATO\", fontsize=12, fontweight='bold')\n",
    "\n",
    "legend_elements = [\n",
    "    Line2D([0], [0], color='cyan', linestyle='--', label='Media'),\n",
    "    Line2D([0], [0], color='black', label='Mediana')\n",
    "]\n",
    "\n",
    "ax.legend(handles=legend_elements, loc='upper center')\n",
    "plt.tight_layout()\n",
    "plt.show()"
   ]
  },
  {
   "cell_type": "markdown",
   "metadata": {
    "id": "OYGwt7zyjSds",
    "tags": []
   },
   "source": [
    "En el grupo 0 la mediana es ligeramente más alta que la media (aunque ambas tienen casi el mismo valor, aproximadamente 38 meses).  \n",
    "Hay una amplia dispersión en el rango de los meses (De 1 a más de 70), lo que indica una clientela con permanencias muy diversas.  \n",
    "La mayoría de los clientes que no cancelaron han permanecido mucho más tiempo con la empresa.  \n",
    "Mientras tanto, en el grupo 1, la mediana está entre 10 y 12 meses y la media está entre 19 y 20 meses, por lo que es más alta que la mediana.  \n",
    "Los clientes que cancelan tienden a tener menos meses de contrato.  \n",
    "  \n",
    "Esto esto indica una relación entre las variables: Cuanto más meses de contrato, menor es la probabilidad de cancelación, por lo que la retención de largo plazo disminuye la tasa de churn.  "
   ]
  },
  {
   "cell_type": "code",
   "execution_count": 28,
   "metadata": {
    "colab": {
     "base_uri": "https://localhost:8080/"
    },
    "id": "zaB6DyW5iNdq",
    "outputId": "21a07837-8c9f-4e48-993b-4cf5464e9dac",
    "tags": []
   },
   "outputs": [
    {
     "data": {
      "image/png": "[encoded data removed]",
      "text/plain": [
       "<Figure size 700x600 with 1 Axes>"
      ]
     },
     "metadata": {},
     "output_type": "display_data"
    }
   ],
   "source": [
    "from matplotlib.lines import Line2D\n",
    "\n",
    "sns.set(style=\"whitegrid\")\n",
    "plt.figure(figsize=(7, 6))\n",
    "\n",
    "ax = sns.boxplot(\n",
    "    data=df_reducido,\n",
    "    x='churn',\n",
    "    y='cargos_mensuales',\n",
    "    hue='churn',\n",
    "    palette={0: '#0083d5', 1: '#d56e00'},\n",
    "    legend=False,\n",
    "    medianprops={'linewidth': 2}\n",
    ")\n",
    "\n",
    "for i, (name, group) in enumerate(df_reducido.groupby('churn')):\n",
    "    ax.hlines(\n",
    "        y=group['cargos_mensuales'].mean(),\n",
    "        xmin=i - 0.4,\n",
    "        xmax=i + 0.4,\n",
    "        color='cyan',\n",
    "        linestyle='--',\n",
    "        linewidth = 2\n",
    "    )\n",
    "\n",
    "plt.title(\"DISTRIBUCIÓN DE LOS CARGOS MENSUALES SEGÚN LA CANCELACIÓN\", fontsize=14, fontweight='bold', loc = 'center')\n",
    "plt.xlabel(\"ESTADO DEL CLIENTE\", fontsize=12, fontweight='bold')\n",
    "plt.ylabel(\"CARGOS MENSUALES\", fontsize=12, fontweight='bold')\n",
    "\n",
    "legend_elements = [\n",
    "    Line2D([0], [0], color='cyan', linestyle='--', label='Media'),\n",
    "    Line2D([0], [0], color='black', label='Mediana')\n",
    "]\n",
    "\n",
    "ax.legend(handles=legend_elements, loc='upper center')\n",
    "plt.tight_layout()\n",
    "plt.show()"
   ]
  },
  {
   "cell_type": "markdown",
   "metadata": {
    "id": "U8S8oTDsrdn3",
    "tags": []
   },
   "source": [
    "En este grupo 0 la mediana de cargos mensuales es cercana a 65 al igual que la media, solo que esta es mínimamente menor a la mediana (aproximadamente 62).  \n",
    "Existe una distribución amplia pero es relativamente más baja en valores.  \n",
    "En cambio, en el grupo 1 la mediana ronda casi los 80 (es mayor que el grupo que no canceló) y la media ronda si los 75, siendo más alto que el grupo 0.  \n",
    "Esto demuestra que muchos clientes que cancelan tienen cargos mensuales más altos.  \n",
    "  \n",
    "En este boxplot existe una relación inversa entre las variables: Los clientes con cargos más altos tienden a cancelar más.  \n",
    "Esto podría deberse a una percepción de alto costo o baja percepción de valor por el precio pagado.  "
   ]
  },
  {
   "cell_type": "markdown",
   "metadata": {
    "id": "rgwXxN1lzbKa"
   },
   "source": [
    "# ***Separación de los Datos***"
   ]
  },
  {
   "cell_type": "code",
   "execution_count": 30,
   "metadata": {
    "colab": {
     "base_uri": "https://localhost:8080/"
    },
    "id": "Er_DacP0hy_H",
    "outputId": "a9a517ca-7518-4b37-ee89-0031f577acf0",
    "tags": []
   },
   "outputs": [
    {
     "data": {
      "text/plain": [
       "Index(['churn', 'ciudadano_mayor', 'pareja', 'dependientes',\n",
       "       'meses_de_contrato', 'multiples_lineas_telefonicas',\n",
       "       'servicio_internet', 'seguridad_online', 'respaldo_online',\n",
       "       'proteccion_del_dispositivo', 'soporte_tecnico', 'servicio_tv',\n",
       "       'servicio_de_peliculas', 'tipo_de_contrato', 'factura_en_linea',\n",
       "       'forma_de_pago', 'cargos_mensuales'],\n",
       "      dtype='object')"
      ]
     },
     "execution_count": 30,
     "metadata": {},
     "output_type": "execute_result"
    }
   ],
   "source": [
    "df_reducido.columns"
   ]
  },
  {
   "cell_type": "code",
   "execution_count": 34,
   "metadata": {
    "colab": {
     "base_uri": "https://localhost:8080/"
    },
    "id": "XVl5p1i-hy7_",
    "outputId": "c5222645-e8de-4882-da6e-8604f1a80248",
    "tags": []
   },
   "outputs": [
    {
     "data": {
      "text/html": [
       "<div>\n",
       "<style scoped>\n",
       "    .dataframe tbody tr th:only-of-type {\n",
       "        vertical-align: middle;\n",
       "    }\n",
       "\n",
       "    .dataframe tbody tr th {\n",
       "        vertical-align: top;\n",
       "    }\n",
       "\n",
       "    .dataframe thead th {\n",
       "        text-align: right;\n",
       "    }\n",
       "</style>\n",
       "<table border=\"1\" class=\"dataframe\">\n",
       "  <thead>\n",
       "    <tr style=\"text-align: right;\">\n",
       "      <th></th>\n",
       "      <th>churn</th>\n",
       "      <th>ciudadano_mayor</th>\n",
       "      <th>pareja</th>\n",
       "      <th>dependientes</th>\n",
       "      <th>meses_de_contrato</th>\n",
       "      <th>multiples_lineas_telefonicas</th>\n",
       "      <th>servicio_internet</th>\n",
       "      <th>seguridad_online</th>\n",
       "      <th>respaldo_online</th>\n",
       "      <th>proteccion_del_dispositivo</th>\n",
       "      <th>soporte_tecnico</th>\n",
       "      <th>servicio_tv</th>\n",
       "      <th>servicio_de_peliculas</th>\n",
       "      <th>tipo_de_contrato</th>\n",
       "      <th>factura_en_linea</th>\n",
       "      <th>forma_de_pago</th>\n",
       "      <th>cargos_mensuales</th>\n",
       "    </tr>\n",
       "  </thead>\n",
       "  <tbody>\n",
       "    <tr>\n",
       "      <th>0</th>\n",
       "      <td>0</td>\n",
       "      <td>0</td>\n",
       "      <td>1</td>\n",
       "      <td>1</td>\n",
       "      <td>9</td>\n",
       "      <td>No</td>\n",
       "      <td>DSL</td>\n",
       "      <td>No</td>\n",
       "      <td>Yes</td>\n",
       "      <td>No</td>\n",
       "      <td>Yes</td>\n",
       "      <td>Yes</td>\n",
       "      <td>No</td>\n",
       "      <td>Un año</td>\n",
       "      <td>1</td>\n",
       "      <td>Cheque por correo</td>\n",
       "      <td>65.60</td>\n",
       "    </tr>\n",
       "    <tr>\n",
       "      <th>1</th>\n",
       "      <td>0</td>\n",
       "      <td>0</td>\n",
       "      <td>0</td>\n",
       "      <td>0</td>\n",
       "      <td>9</td>\n",
       "      <td>Yes</td>\n",
       "      <td>DSL</td>\n",
       "      <td>No</td>\n",
       "      <td>No</td>\n",
       "      <td>No</td>\n",
       "      <td>No</td>\n",
       "      <td>No</td>\n",
       "      <td>Yes</td>\n",
       "      <td>Mes a mes</td>\n",
       "      <td>0</td>\n",
       "      <td>Cheque por correo</td>\n",
       "      <td>59.90</td>\n",
       "    </tr>\n",
       "    <tr>\n",
       "      <th>2</th>\n",
       "      <td>1</td>\n",
       "      <td>0</td>\n",
       "      <td>0</td>\n",
       "      <td>0</td>\n",
       "      <td>4</td>\n",
       "      <td>No</td>\n",
       "      <td>Fibra óptica</td>\n",
       "      <td>No</td>\n",
       "      <td>No</td>\n",
       "      <td>Yes</td>\n",
       "      <td>No</td>\n",
       "      <td>No</td>\n",
       "      <td>No</td>\n",
       "      <td>Mes a mes</td>\n",
       "      <td>1</td>\n",
       "      <td>Cheque electrónico</td>\n",
       "      <td>73.90</td>\n",
       "    </tr>\n",
       "    <tr>\n",
       "      <th>3</th>\n",
       "      <td>1</td>\n",
       "      <td>1</td>\n",
       "      <td>1</td>\n",
       "      <td>0</td>\n",
       "      <td>13</td>\n",
       "      <td>No</td>\n",
       "      <td>Fibra óptica</td>\n",
       "      <td>No</td>\n",
       "      <td>Yes</td>\n",
       "      <td>Yes</td>\n",
       "      <td>No</td>\n",
       "      <td>Yes</td>\n",
       "      <td>Yes</td>\n",
       "      <td>Mes a mes</td>\n",
       "      <td>1</td>\n",
       "      <td>Cheque electrónico</td>\n",
       "      <td>98.00</td>\n",
       "    </tr>\n",
       "    <tr>\n",
       "      <th>4</th>\n",
       "      <td>1</td>\n",
       "      <td>1</td>\n",
       "      <td>1</td>\n",
       "      <td>0</td>\n",
       "      <td>3</td>\n",
       "      <td>No</td>\n",
       "      <td>Fibra óptica</td>\n",
       "      <td>No</td>\n",
       "      <td>No</td>\n",
       "      <td>No</td>\n",
       "      <td>Yes</td>\n",
       "      <td>Yes</td>\n",
       "      <td>No</td>\n",
       "      <td>Mes a mes</td>\n",
       "      <td>1</td>\n",
       "      <td>Cheque por correo</td>\n",
       "      <td>83.90</td>\n",
       "    </tr>\n",
       "    <tr>\n",
       "      <th>...</th>\n",
       "      <td>...</td>\n",
       "      <td>...</td>\n",
       "      <td>...</td>\n",
       "      <td>...</td>\n",
       "      <td>...</td>\n",
       "      <td>...</td>\n",
       "      <td>...</td>\n",
       "      <td>...</td>\n",
       "      <td>...</td>\n",
       "      <td>...</td>\n",
       "      <td>...</td>\n",
       "      <td>...</td>\n",
       "      <td>...</td>\n",
       "      <td>...</td>\n",
       "      <td>...</td>\n",
       "      <td>...</td>\n",
       "      <td>...</td>\n",
       "    </tr>\n",
       "    <tr>\n",
       "      <th>7251</th>\n",
       "      <td>0</td>\n",
       "      <td>0</td>\n",
       "      <td>0</td>\n",
       "      <td>0</td>\n",
       "      <td>13</td>\n",
       "      <td>No</td>\n",
       "      <td>DSL</td>\n",
       "      <td>Yes</td>\n",
       "      <td>No</td>\n",
       "      <td>No</td>\n",
       "      <td>Yes</td>\n",
       "      <td>No</td>\n",
       "      <td>No</td>\n",
       "      <td>Un año</td>\n",
       "      <td>0</td>\n",
       "      <td>Cheque por correo</td>\n",
       "      <td>55.15</td>\n",
       "    </tr>\n",
       "    <tr>\n",
       "      <th>7252</th>\n",
       "      <td>1</td>\n",
       "      <td>0</td>\n",
       "      <td>1</td>\n",
       "      <td>0</td>\n",
       "      <td>22</td>\n",
       "      <td>Yes</td>\n",
       "      <td>Fibra óptica</td>\n",
       "      <td>No</td>\n",
       "      <td>No</td>\n",
       "      <td>No</td>\n",
       "      <td>No</td>\n",
       "      <td>No</td>\n",
       "      <td>Yes</td>\n",
       "      <td>Mes a mes</td>\n",
       "      <td>1</td>\n",
       "      <td>Cheque electrónico</td>\n",
       "      <td>85.10</td>\n",
       "    </tr>\n",
       "    <tr>\n",
       "      <th>7253</th>\n",
       "      <td>0</td>\n",
       "      <td>0</td>\n",
       "      <td>0</td>\n",
       "      <td>0</td>\n",
       "      <td>2</td>\n",
       "      <td>No</td>\n",
       "      <td>DSL</td>\n",
       "      <td>No</td>\n",
       "      <td>Yes</td>\n",
       "      <td>No</td>\n",
       "      <td>No</td>\n",
       "      <td>No</td>\n",
       "      <td>No</td>\n",
       "      <td>Mes a mes</td>\n",
       "      <td>1</td>\n",
       "      <td>Cheque por correo</td>\n",
       "      <td>50.30</td>\n",
       "    </tr>\n",
       "    <tr>\n",
       "      <th>7254</th>\n",
       "      <td>0</td>\n",
       "      <td>0</td>\n",
       "      <td>1</td>\n",
       "      <td>1</td>\n",
       "      <td>67</td>\n",
       "      <td>No</td>\n",
       "      <td>DSL</td>\n",
       "      <td>Yes</td>\n",
       "      <td>No</td>\n",
       "      <td>Yes</td>\n",
       "      <td>Yes</td>\n",
       "      <td>No</td>\n",
       "      <td>Yes</td>\n",
       "      <td>Dos años</td>\n",
       "      <td>0</td>\n",
       "      <td>Cheque por correo</td>\n",
       "      <td>67.85</td>\n",
       "    </tr>\n",
       "    <tr>\n",
       "      <th>7255</th>\n",
       "      <td>0</td>\n",
       "      <td>0</td>\n",
       "      <td>1</td>\n",
       "      <td>1</td>\n",
       "      <td>63</td>\n",
       "      <td>No phone service</td>\n",
       "      <td>DSL</td>\n",
       "      <td>Yes</td>\n",
       "      <td>Yes</td>\n",
       "      <td>Yes</td>\n",
       "      <td>No</td>\n",
       "      <td>Yes</td>\n",
       "      <td>Yes</td>\n",
       "      <td>Dos años</td>\n",
       "      <td>0</td>\n",
       "      <td>Cheque electrónico</td>\n",
       "      <td>59.00</td>\n",
       "    </tr>\n",
       "  </tbody>\n",
       "</table>\n",
       "<p>7256 rows × 17 columns</p>\n",
       "</div>"
      ],
      "text/plain": [
       "      churn  ciudadano_mayor  pareja  dependientes  meses_de_contrato  \\\n",
       "0         0                0       1             1                  9   \n",
       "1         0                0       0             0                  9   \n",
       "2         1                0       0             0                  4   \n",
       "3         1                1       1             0                 13   \n",
       "4         1                1       1             0                  3   \n",
       "...     ...              ...     ...           ...                ...   \n",
       "7251      0                0       0             0                 13   \n",
       "7252      1                0       1             0                 22   \n",
       "7253      0                0       0             0                  2   \n",
       "7254      0                0       1             1                 67   \n",
       "7255      0                0       1             1                 63   \n",
       "\n",
       "     multiples_lineas_telefonicas servicio_internet seguridad_online  \\\n",
       "0                              No               DSL               No   \n",
       "1                             Yes               DSL               No   \n",
       "2                              No      Fibra óptica               No   \n",
       "3                              No      Fibra óptica               No   \n",
       "4                              No      Fibra óptica               No   \n",
       "...                           ...               ...              ...   \n",
       "7251                           No               DSL              Yes   \n",
       "7252                          Yes      Fibra óptica               No   \n",
       "7253                           No               DSL               No   \n",
       "7254                           No               DSL              Yes   \n",
       "7255             No phone service               DSL              Yes   \n",
       "\n",
       "     respaldo_online proteccion_del_dispositivo soporte_tecnico servicio_tv  \\\n",
       "0                Yes                         No             Yes         Yes   \n",
       "1                 No                         No              No          No   \n",
       "2                 No                        Yes              No          No   \n",
       "3                Yes                        Yes              No         Yes   \n",
       "4                 No                         No             Yes         Yes   \n",
       "...              ...                        ...             ...         ...   \n",
       "7251              No                         No             Yes          No   \n",
       "7252              No                         No              No          No   \n",
       "7253             Yes                         No              No          No   \n",
       "7254              No                        Yes             Yes          No   \n",
       "7255             Yes                        Yes              No         Yes   \n",
       "\n",
       "     servicio_de_peliculas tipo_de_contrato  factura_en_linea  \\\n",
       "0                       No           Un año                 1   \n",
       "1                      Yes        Mes a mes                 0   \n",
       "2                       No        Mes a mes                 1   \n",
       "3                      Yes        Mes a mes                 1   \n",
       "4                       No        Mes a mes                 1   \n",
       "...                    ...              ...               ...   \n",
       "7251                    No           Un año                 0   \n",
       "7252                   Yes        Mes a mes                 1   \n",
       "7253                    No        Mes a mes                 1   \n",
       "7254                   Yes         Dos años                 0   \n",
       "7255                   Yes         Dos años                 0   \n",
       "\n",
       "           forma_de_pago  cargos_mensuales  \n",
       "0      Cheque por correo             65.60  \n",
       "1      Cheque por correo             59.90  \n",
       "2     Cheque electrónico             73.90  \n",
       "3     Cheque electrónico             98.00  \n",
       "4      Cheque por correo             83.90  \n",
       "...                  ...               ...  \n",
       "7251   Cheque por correo             55.15  \n",
       "7252  Cheque electrónico             85.10  \n",
       "7253   Cheque por correo             50.30  \n",
       "7254   Cheque por correo             67.85  \n",
       "7255  Cheque electrónico             59.00  \n",
       "\n",
       "[7256 rows x 17 columns]"
      ]
     },
     "execution_count": 34,
     "metadata": {},
     "output_type": "execute_result"
    }
   ],
   "source": [
    "df_reducido"
   ]
  },
  {
   "cell_type": "code",
   "execution_count": 35,
   "metadata": {
    "id": "vLHkJzMghy5k",
    "tags": []
   },
   "outputs": [],
   "source": [
    "X = df_reducido.drop('churn', axis = 1)\n",
    "y = df_reducido['churn']"
   ]
  },
  {
   "cell_type": "code",
   "execution_count": 36,
   "metadata": {
    "colab": {
     "base_uri": "https://localhost:8080/"
    },
    "id": "N7q3axlUhyuA",
    "outputId": "f5bf281c-88b8-45cf-ff57-4b24aad605f6",
    "tags": []
   },
   "outputs": [
    {
     "data": {
      "text/html": [
       "<div>\n",
       "<style scoped>\n",
       "    .dataframe tbody tr th:only-of-type {\n",
       "        vertical-align: middle;\n",
       "    }\n",
       "\n",
       "    .dataframe tbody tr th {\n",
       "        vertical-align: top;\n",
       "    }\n",
       "\n",
       "    .dataframe thead th {\n",
       "        text-align: right;\n",
       "    }\n",
       "</style>\n",
       "<table border=\"1\" class=\"dataframe\">\n",
       "  <thead>\n",
       "    <tr style=\"text-align: right;\">\n",
       "      <th></th>\n",
       "      <th>ciudadano_mayor</th>\n",
       "      <th>pareja</th>\n",
       "      <th>dependientes</th>\n",
       "      <th>meses_de_contrato</th>\n",
       "      <th>multiples_lineas_telefonicas</th>\n",
       "      <th>servicio_internet</th>\n",
       "      <th>seguridad_online</th>\n",
       "      <th>respaldo_online</th>\n",
       "      <th>proteccion_del_dispositivo</th>\n",
       "      <th>soporte_tecnico</th>\n",
       "      <th>servicio_tv</th>\n",
       "      <th>servicio_de_peliculas</th>\n",
       "      <th>tipo_de_contrato</th>\n",
       "      <th>factura_en_linea</th>\n",
       "      <th>forma_de_pago</th>\n",
       "      <th>cargos_mensuales</th>\n",
       "    </tr>\n",
       "  </thead>\n",
       "  <tbody>\n",
       "    <tr>\n",
       "      <th>0</th>\n",
       "      <td>0</td>\n",
       "      <td>1</td>\n",
       "      <td>1</td>\n",
       "      <td>9</td>\n",
       "      <td>No</td>\n",
       "      <td>DSL</td>\n",
       "      <td>No</td>\n",
       "      <td>Yes</td>\n",
       "      <td>No</td>\n",
       "      <td>Yes</td>\n",
       "      <td>Yes</td>\n",
       "      <td>No</td>\n",
       "      <td>Un año</td>\n",
       "      <td>1</td>\n",
       "      <td>Cheque por correo</td>\n",
       "      <td>65.60</td>\n",
       "    </tr>\n",
       "    <tr>\n",
       "      <th>1</th>\n",
       "      <td>0</td>\n",
       "      <td>0</td>\n",
       "      <td>0</td>\n",
       "      <td>9</td>\n",
       "      <td>Yes</td>\n",
       "      <td>DSL</td>\n",
       "      <td>No</td>\n",
       "      <td>No</td>\n",
       "      <td>No</td>\n",
       "      <td>No</td>\n",
       "      <td>No</td>\n",
       "      <td>Yes</td>\n",
       "      <td>Mes a mes</td>\n",
       "      <td>0</td>\n",
       "      <td>Cheque por correo</td>\n",
       "      <td>59.90</td>\n",
       "    </tr>\n",
       "    <tr>\n",
       "      <th>2</th>\n",
       "      <td>0</td>\n",
       "      <td>0</td>\n",
       "      <td>0</td>\n",
       "      <td>4</td>\n",
       "      <td>No</td>\n",
       "      <td>Fibra óptica</td>\n",
       "      <td>No</td>\n",
       "      <td>No</td>\n",
       "      <td>Yes</td>\n",
       "      <td>No</td>\n",
       "      <td>No</td>\n",
       "      <td>No</td>\n",
       "      <td>Mes a mes</td>\n",
       "      <td>1</td>\n",
       "      <td>Cheque electrónico</td>\n",
       "      <td>73.90</td>\n",
       "    </tr>\n",
       "    <tr>\n",
       "      <th>3</th>\n",
       "      <td>1</td>\n",
       "      <td>1</td>\n",
       "      <td>0</td>\n",
       "      <td>13</td>\n",
       "      <td>No</td>\n",
       "      <td>Fibra óptica</td>\n",
       "      <td>No</td>\n",
       "      <td>Yes</td>\n",
       "      <td>Yes</td>\n",
       "      <td>No</td>\n",
       "      <td>Yes</td>\n",
       "      <td>Yes</td>\n",
       "      <td>Mes a mes</td>\n",
       "      <td>1</td>\n",
       "      <td>Cheque electrónico</td>\n",
       "      <td>98.00</td>\n",
       "    </tr>\n",
       "    <tr>\n",
       "      <th>4</th>\n",
       "      <td>1</td>\n",
       "      <td>1</td>\n",
       "      <td>0</td>\n",
       "      <td>3</td>\n",
       "      <td>No</td>\n",
       "      <td>Fibra óptica</td>\n",
       "      <td>No</td>\n",
       "      <td>No</td>\n",
       "      <td>No</td>\n",
       "      <td>Yes</td>\n",
       "      <td>Yes</td>\n",
       "      <td>No</td>\n",
       "      <td>Mes a mes</td>\n",
       "      <td>1</td>\n",
       "      <td>Cheque por correo</td>\n",
       "      <td>83.90</td>\n",
       "    </tr>\n",
       "    <tr>\n",
       "      <th>...</th>\n",
       "      <td>...</td>\n",
       "      <td>...</td>\n",
       "      <td>...</td>\n",
       "      <td>...</td>\n",
       "      <td>...</td>\n",
       "      <td>...</td>\n",
       "      <td>...</td>\n",
       "      <td>...</td>\n",
       "      <td>...</td>\n",
       "      <td>...</td>\n",
       "      <td>...</td>\n",
       "      <td>...</td>\n",
       "      <td>...</td>\n",
       "      <td>...</td>\n",
       "      <td>...</td>\n",
       "      <td>...</td>\n",
       "    </tr>\n",
       "    <tr>\n",
       "      <th>7251</th>\n",
       "      <td>0</td>\n",
       "      <td>0</td>\n",
       "      <td>0</td>\n",
       "      <td>13</td>\n",
       "      <td>No</td>\n",
       "      <td>DSL</td>\n",
       "      <td>Yes</td>\n",
       "      <td>No</td>\n",
       "      <td>No</td>\n",
       "      <td>Yes</td>\n",
       "      <td>No</td>\n",
       "      <td>No</td>\n",
       "      <td>Un año</td>\n",
       "      <td>0</td>\n",
       "      <td>Cheque por correo</td>\n",
       "      <td>55.15</td>\n",
       "    </tr>\n",
       "    <tr>\n",
       "      <th>7252</th>\n",
       "      <td>0</td>\n",
       "      <td>1</td>\n",
       "      <td>0</td>\n",
       "      <td>22</td>\n",
       "      <td>Yes</td>\n",
       "      <td>Fibra óptica</td>\n",
       "      <td>No</td>\n",
       "      <td>No</td>\n",
       "      <td>No</td>\n",
       "      <td>No</td>\n",
       "      <td>No</td>\n",
       "      <td>Yes</td>\n",
       "      <td>Mes a mes</td>\n",
       "      <td>1</td>\n",
       "      <td>Cheque electrónico</td>\n",
       "      <td>85.10</td>\n",
       "    </tr>\n",
       "    <tr>\n",
       "      <th>7253</th>\n",
       "      <td>0</td>\n",
       "      <td>0</td>\n",
       "      <td>0</td>\n",
       "      <td>2</td>\n",
       "      <td>No</td>\n",
       "      <td>DSL</td>\n",
       "      <td>No</td>\n",
       "      <td>Yes</td>\n",
       "      <td>No</td>\n",
       "      <td>No</td>\n",
       "      <td>No</td>\n",
       "      <td>No</td>\n",
       "      <td>Mes a mes</td>\n",
       "      <td>1</td>\n",
       "      <td>Cheque por correo</td>\n",
       "      <td>50.30</td>\n",
       "    </tr>\n",
       "    <tr>\n",
       "      <th>7254</th>\n",
       "      <td>0</td>\n",
       "      <td>1</td>\n",
       "      <td>1</td>\n",
       "      <td>67</td>\n",
       "      <td>No</td>\n",
       "      <td>DSL</td>\n",
       "      <td>Yes</td>\n",
       "      <td>No</td>\n",
       "      <td>Yes</td>\n",
       "      <td>Yes</td>\n",
       "      <td>No</td>\n",
       "      <td>Yes</td>\n",
       "      <td>Dos años</td>\n",
       "      <td>0</td>\n",
       "      <td>Cheque por correo</td>\n",
       "      <td>67.85</td>\n",
       "    </tr>\n",
       "    <tr>\n",
       "      <th>7255</th>\n",
       "      <td>0</td>\n",
       "      <td>1</td>\n",
       "      <td>1</td>\n",
       "      <td>63</td>\n",
       "      <td>No phone service</td>\n",
       "      <td>DSL</td>\n",
       "      <td>Yes</td>\n",
       "      <td>Yes</td>\n",
       "      <td>Yes</td>\n",
       "      <td>No</td>\n",
       "      <td>Yes</td>\n",
       "      <td>Yes</td>\n",
       "      <td>Dos años</td>\n",
       "      <td>0</td>\n",
       "      <td>Cheque electrónico</td>\n",
       "      <td>59.00</td>\n",
       "    </tr>\n",
       "  </tbody>\n",
       "</table>\n",
       "<p>7256 rows × 16 columns</p>\n",
       "</div>"
      ],
      "text/plain": [
       "      ciudadano_mayor  pareja  dependientes  meses_de_contrato  \\\n",
       "0                   0       1             1                  9   \n",
       "1                   0       0             0                  9   \n",
       "2                   0       0             0                  4   \n",
       "3                   1       1             0                 13   \n",
       "4                   1       1             0                  3   \n",
       "...               ...     ...           ...                ...   \n",
       "7251                0       0             0                 13   \n",
       "7252                0       1             0                 22   \n",
       "7253                0       0             0                  2   \n",
       "7254                0       1             1                 67   \n",
       "7255                0       1             1                 63   \n",
       "\n",
       "     multiples_lineas_telefonicas servicio_internet seguridad_online  \\\n",
       "0                              No               DSL               No   \n",
       "1                             Yes               DSL               No   \n",
       "2                              No      Fibra óptica               No   \n",
       "3                              No      Fibra óptica               No   \n",
       "4                              No      Fibra óptica               No   \n",
       "...                           ...               ...              ...   \n",
       "7251                           No               DSL              Yes   \n",
       "7252                          Yes      Fibra óptica               No   \n",
       "7253                           No               DSL               No   \n",
       "7254                           No               DSL              Yes   \n",
       "7255             No phone service               DSL              Yes   \n",
       "\n",
       "     respaldo_online proteccion_del_dispositivo soporte_tecnico servicio_tv  \\\n",
       "0                Yes                         No             Yes         Yes   \n",
       "1                 No                         No              No          No   \n",
       "2                 No                        Yes              No          No   \n",
       "3                Yes                        Yes              No         Yes   \n",
       "4                 No                         No             Yes         Yes   \n",
       "...              ...                        ...             ...         ...   \n",
       "7251              No                         No             Yes          No   \n",
       "7252              No                         No              No          No   \n",
       "7253             Yes                         No              No          No   \n",
       "7254              No                        Yes             Yes          No   \n",
       "7255             Yes                        Yes              No         Yes   \n",
       "\n",
       "     servicio_de_peliculas tipo_de_contrato  factura_en_linea  \\\n",
       "0                       No           Un año                 1   \n",
       "1                      Yes        Mes a mes                 0   \n",
       "2                       No        Mes a mes                 1   \n",
       "3                      Yes        Mes a mes                 1   \n",
       "4                       No        Mes a mes                 1   \n",
       "...                    ...              ...               ...   \n",
       "7251                    No           Un año                 0   \n",
       "7252                   Yes        Mes a mes                 1   \n",
       "7253                    No        Mes a mes                 1   \n",
       "7254                   Yes         Dos años                 0   \n",
       "7255                   Yes         Dos años                 0   \n",
       "\n",
       "           forma_de_pago  cargos_mensuales  \n",
       "0      Cheque por correo             65.60  \n",
       "1      Cheque por correo             59.90  \n",
       "2     Cheque electrónico             73.90  \n",
       "3     Cheque electrónico             98.00  \n",
       "4      Cheque por correo             83.90  \n",
       "...                  ...               ...  \n",
       "7251   Cheque por correo             55.15  \n",
       "7252  Cheque electrónico             85.10  \n",
       "7253   Cheque por correo             50.30  \n",
       "7254   Cheque por correo             67.85  \n",
       "7255  Cheque electrónico             59.00  \n",
       "\n",
       "[7256 rows x 16 columns]"
      ]
     },
     "execution_count": 36,
     "metadata": {},
     "output_type": "execute_result"
    }
   ],
   "source": [
    "X"
   ]
  },
  {
   "cell_type": "code",
   "execution_count": 37,
   "metadata": {
    "colab": {
     "base_uri": "https://localhost:8080/"
    },
    "id": "tdBEUmeZh2je",
    "outputId": "acae204f-7bc0-4401-e334-88083a7a74f8",
    "tags": []
   },
   "outputs": [
    {
     "data": {
      "text/plain": [
       "0       0\n",
       "1       0\n",
       "2       1\n",
       "3       1\n",
       "4       1\n",
       "       ..\n",
       "7251    0\n",
       "7252    1\n",
       "7253    0\n",
       "7254    0\n",
       "7255    0\n",
       "Name: churn, Length: 7256, dtype: int64"
      ]
     },
     "execution_count": 37,
     "metadata": {},
     "output_type": "execute_result"
    }
   ],
   "source": [
    "y"
   ]
  },
  {
   "cell_type": "code",
   "execution_count": 45,
   "metadata": {
    "id": "iIF7dY_Zzem4",
    "tags": []
   },
   "outputs": [],
   "source": [
    "from sklearn.model_selection import train_test_split\n",
    "\n",
    "X_train, X_test, y_train, y_test = train_test_split(X, y, test_size=0.1, stratify = y, random_state=42)"
   ]
  },
  {
   "cell_type": "code",
   "execution_count": 46,
   "metadata": {
    "id": "Y2MsPPT1lNtT",
    "tags": []
   },
   "outputs": [],
   "source": [
    "columnas_categoricas = X_train.select_dtypes(include=['object', 'category']).columns.tolist()\n",
    "columnas_numericas = ['meses_de_contrato', 'cargos_mensuales']"
   ]
  },
  {
   "cell_type": "markdown",
   "metadata": {
    "id": "xTAbGXTyTGai"
   },
   "source": [
    "# ***Encoding***"
   ]
  },
  {
   "cell_type": "code",
   "execution_count": 47,
   "metadata": {
    "id": "i500IcOcTUD0",
    "tags": []
   },
   "outputs": [],
   "source": [
    "from sklearn.compose import make_column_transformer\n",
    "from sklearn.preprocessing import OneHotEncoder, StandardScaler"
   ]
  },
  {
   "cell_type": "code",
   "execution_count": 48,
   "metadata": {
    "id": "xNNqeQ75Tdfg",
    "tags": []
   },
   "outputs": [],
   "source": [
    "one_hot = make_column_transformer((OneHotEncoder(sparse_output=False, handle_unknown='ignore'), columnas_categoricas), (StandardScaler(), columnas_numericas), remainder='passthrough', sparse_threshold=0)"
   ]
  },
  {
   "cell_type": "code",
   "execution_count": 49,
   "metadata": {
    "id": "9NEgdZ0eTdcw",
    "tags": []
   },
   "outputs": [],
   "source": [
    "X_train_encoded = one_hot.fit_transform(X_train)\n",
    "X_test_encoded = one_hot.transform(X_test)"
   ]
  },
  {
   "cell_type": "code",
   "execution_count": 51,
   "metadata": {
    "colab": {
     "base_uri": "https://localhost:8080/"
    },
    "id": "RMtdaN0LTdaG",
    "outputId": "30668825-b69b-4cdd-daee-085944dcbc0f",
    "tags": []
   },
   "outputs": [
    {
     "data": {
      "text/plain": [
       "array(['onehotencoder__multiples_lineas_telefonicas_No',\n",
       "       'onehotencoder__multiples_lineas_telefonicas_No phone service',\n",
       "       'onehotencoder__multiples_lineas_telefonicas_Yes',\n",
       "       'onehotencoder__servicio_internet_DSL',\n",
       "       'onehotencoder__servicio_internet_Fibra óptica',\n",
       "       'onehotencoder__servicio_internet_No',\n",
       "       'onehotencoder__seguridad_online_No',\n",
       "       'onehotencoder__seguridad_online_No internet service',\n",
       "       'onehotencoder__seguridad_online_Yes',\n",
       "       'onehotencoder__respaldo_online_No',\n",
       "       'onehotencoder__respaldo_online_No internet service',\n",
       "       'onehotencoder__respaldo_online_Yes',\n",
       "       'onehotencoder__proteccion_del_dispositivo_No',\n",
       "       'onehotencoder__proteccion_del_dispositivo_No internet service',\n",
       "       'onehotencoder__proteccion_del_dispositivo_Yes',\n",
       "       'onehotencoder__soporte_tecnico_No',\n",
       "       'onehotencoder__soporte_tecnico_No internet service',\n",
       "       'onehotencoder__soporte_tecnico_Yes',\n",
       "       'onehotencoder__servicio_tv_No',\n",
       "       'onehotencoder__servicio_tv_No internet service',\n",
       "       'onehotencoder__servicio_tv_Yes',\n",
       "       'onehotencoder__servicio_de_peliculas_No',\n",
       "       'onehotencoder__servicio_de_peliculas_No internet service',\n",
       "       'onehotencoder__servicio_de_peliculas_Yes',\n",
       "       'onehotencoder__tipo_de_contrato_Dos años',\n",
       "       'onehotencoder__tipo_de_contrato_Mes a mes',\n",
       "       'onehotencoder__tipo_de_contrato_Un año',\n",
       "       'onehotencoder__forma_de_pago_Cheque electrónico',\n",
       "       'onehotencoder__forma_de_pago_Cheque por correo',\n",
       "       'onehotencoder__forma_de_pago_Tarjeta de crédito',\n",
       "       'onehotencoder__forma_de_pago_Transferencia bancaria',\n",
       "       'standardscaler__meses_de_contrato',\n",
       "       'standardscaler__cargos_mensuales', 'remainder__ciudadano_mayor',\n",
       "       'remainder__pareja', 'remainder__dependientes',\n",
       "       'remainder__factura_en_linea'], dtype=object)"
      ]
     },
     "execution_count": 51,
     "metadata": {},
     "output_type": "execute_result"
    }
   ],
   "source": [
    "one_hot.get_feature_names_out()"
   ]
  },
  {
   "cell_type": "code",
   "execution_count": 52,
   "metadata": {
    "colab": {
     "base_uri": "https://localhost:8080/"
    },
    "id": "7gtrHKsSTdXt",
    "outputId": "87044f82-9414-4f84-f958-335bb7ced0d6",
    "tags": []
   },
   "outputs": [
    {
     "data": {
      "text/html": [
       "<div>\n",
       "<style scoped>\n",
       "    .dataframe tbody tr th:only-of-type {\n",
       "        vertical-align: middle;\n",
       "    }\n",
       "\n",
       "    .dataframe tbody tr th {\n",
       "        vertical-align: top;\n",
       "    }\n",
       "\n",
       "    .dataframe thead th {\n",
       "        text-align: right;\n",
       "    }\n",
       "</style>\n",
       "<table border=\"1\" class=\"dataframe\">\n",
       "  <thead>\n",
       "    <tr style=\"text-align: right;\">\n",
       "      <th></th>\n",
       "      <th>onehotencoder__multiples_lineas_telefonicas_No</th>\n",
       "      <th>onehotencoder__multiples_lineas_telefonicas_No phone service</th>\n",
       "      <th>onehotencoder__multiples_lineas_telefonicas_Yes</th>\n",
       "      <th>onehotencoder__servicio_internet_DSL</th>\n",
       "      <th>onehotencoder__servicio_internet_Fibra óptica</th>\n",
       "      <th>onehotencoder__servicio_internet_No</th>\n",
       "      <th>onehotencoder__seguridad_online_No</th>\n",
       "      <th>onehotencoder__seguridad_online_No internet service</th>\n",
       "      <th>onehotencoder__seguridad_online_Yes</th>\n",
       "      <th>onehotencoder__respaldo_online_No</th>\n",
       "      <th>...</th>\n",
       "      <th>onehotencoder__forma_de_pago_Cheque electrónico</th>\n",
       "      <th>onehotencoder__forma_de_pago_Cheque por correo</th>\n",
       "      <th>onehotencoder__forma_de_pago_Tarjeta de crédito</th>\n",
       "      <th>onehotencoder__forma_de_pago_Transferencia bancaria</th>\n",
       "      <th>standardscaler__meses_de_contrato</th>\n",
       "      <th>standardscaler__cargos_mensuales</th>\n",
       "      <th>remainder__ciudadano_mayor</th>\n",
       "      <th>remainder__pareja</th>\n",
       "      <th>remainder__dependientes</th>\n",
       "      <th>remainder__factura_en_linea</th>\n",
       "    </tr>\n",
       "  </thead>\n",
       "  <tbody>\n",
       "    <tr>\n",
       "      <th>0</th>\n",
       "      <td>1.0</td>\n",
       "      <td>0.0</td>\n",
       "      <td>0.0</td>\n",
       "      <td>0.0</td>\n",
       "      <td>1.0</td>\n",
       "      <td>0.0</td>\n",
       "      <td>1.0</td>\n",
       "      <td>0.0</td>\n",
       "      <td>0.0</td>\n",
       "      <td>0.0</td>\n",
       "      <td>...</td>\n",
       "      <td>1.0</td>\n",
       "      <td>0.0</td>\n",
       "      <td>0.0</td>\n",
       "      <td>0.0</td>\n",
       "      <td>-1.195928</td>\n",
       "      <td>0.650412</td>\n",
       "      <td>0.0</td>\n",
       "      <td>0.0</td>\n",
       "      <td>0.0</td>\n",
       "      <td>0.0</td>\n",
       "    </tr>\n",
       "    <tr>\n",
       "      <th>1</th>\n",
       "      <td>1.0</td>\n",
       "      <td>0.0</td>\n",
       "      <td>0.0</td>\n",
       "      <td>0.0</td>\n",
       "      <td>1.0</td>\n",
       "      <td>0.0</td>\n",
       "      <td>1.0</td>\n",
       "      <td>0.0</td>\n",
       "      <td>0.0</td>\n",
       "      <td>1.0</td>\n",
       "      <td>...</td>\n",
       "      <td>1.0</td>\n",
       "      <td>0.0</td>\n",
       "      <td>0.0</td>\n",
       "      <td>0.0</td>\n",
       "      <td>0.187017</td>\n",
       "      <td>0.839761</td>\n",
       "      <td>1.0</td>\n",
       "      <td>1.0</td>\n",
       "      <td>0.0</td>\n",
       "      <td>0.0</td>\n",
       "    </tr>\n",
       "    <tr>\n",
       "      <th>2</th>\n",
       "      <td>0.0</td>\n",
       "      <td>1.0</td>\n",
       "      <td>0.0</td>\n",
       "      <td>1.0</td>\n",
       "      <td>0.0</td>\n",
       "      <td>0.0</td>\n",
       "      <td>1.0</td>\n",
       "      <td>0.0</td>\n",
       "      <td>0.0</td>\n",
       "      <td>1.0</td>\n",
       "      <td>...</td>\n",
       "      <td>1.0</td>\n",
       "      <td>0.0</td>\n",
       "      <td>0.0</td>\n",
       "      <td>0.0</td>\n",
       "      <td>-1.277278</td>\n",
       "      <td>-0.962376</td>\n",
       "      <td>0.0</td>\n",
       "      <td>0.0</td>\n",
       "      <td>0.0</td>\n",
       "      <td>1.0</td>\n",
       "    </tr>\n",
       "    <tr>\n",
       "      <th>3</th>\n",
       "      <td>0.0</td>\n",
       "      <td>0.0</td>\n",
       "      <td>1.0</td>\n",
       "      <td>0.0</td>\n",
       "      <td>0.0</td>\n",
       "      <td>1.0</td>\n",
       "      <td>0.0</td>\n",
       "      <td>1.0</td>\n",
       "      <td>0.0</td>\n",
       "      <td>0.0</td>\n",
       "      <td>...</td>\n",
       "      <td>0.0</td>\n",
       "      <td>1.0</td>\n",
       "      <td>0.0</td>\n",
       "      <td>0.0</td>\n",
       "      <td>-1.277278</td>\n",
       "      <td>-1.319481</td>\n",
       "      <td>0.0</td>\n",
       "      <td>0.0</td>\n",
       "      <td>0.0</td>\n",
       "      <td>1.0</td>\n",
       "    </tr>\n",
       "    <tr>\n",
       "      <th>4</th>\n",
       "      <td>0.0</td>\n",
       "      <td>1.0</td>\n",
       "      <td>0.0</td>\n",
       "      <td>1.0</td>\n",
       "      <td>0.0</td>\n",
       "      <td>0.0</td>\n",
       "      <td>0.0</td>\n",
       "      <td>0.0</td>\n",
       "      <td>1.0</td>\n",
       "      <td>0.0</td>\n",
       "      <td>...</td>\n",
       "      <td>0.0</td>\n",
       "      <td>0.0</td>\n",
       "      <td>0.0</td>\n",
       "      <td>1.0</td>\n",
       "      <td>0.878490</td>\n",
       "      <td>-0.615236</td>\n",
       "      <td>0.0</td>\n",
       "      <td>0.0</td>\n",
       "      <td>0.0</td>\n",
       "      <td>0.0</td>\n",
       "    </tr>\n",
       "    <tr>\n",
       "      <th>...</th>\n",
       "      <td>...</td>\n",
       "      <td>...</td>\n",
       "      <td>...</td>\n",
       "      <td>...</td>\n",
       "      <td>...</td>\n",
       "      <td>...</td>\n",
       "      <td>...</td>\n",
       "      <td>...</td>\n",
       "      <td>...</td>\n",
       "      <td>...</td>\n",
       "      <td>...</td>\n",
       "      <td>...</td>\n",
       "      <td>...</td>\n",
       "      <td>...</td>\n",
       "      <td>...</td>\n",
       "      <td>...</td>\n",
       "      <td>...</td>\n",
       "      <td>...</td>\n",
       "      <td>...</td>\n",
       "      <td>...</td>\n",
       "      <td>...</td>\n",
       "    </tr>\n",
       "    <tr>\n",
       "      <th>6525</th>\n",
       "      <td>0.0</td>\n",
       "      <td>0.0</td>\n",
       "      <td>1.0</td>\n",
       "      <td>0.0</td>\n",
       "      <td>1.0</td>\n",
       "      <td>0.0</td>\n",
       "      <td>1.0</td>\n",
       "      <td>0.0</td>\n",
       "      <td>0.0</td>\n",
       "      <td>1.0</td>\n",
       "      <td>...</td>\n",
       "      <td>0.0</td>\n",
       "      <td>0.0</td>\n",
       "      <td>0.0</td>\n",
       "      <td>1.0</td>\n",
       "      <td>1.081864</td>\n",
       "      <td>1.155342</td>\n",
       "      <td>0.0</td>\n",
       "      <td>1.0</td>\n",
       "      <td>0.0</td>\n",
       "      <td>1.0</td>\n",
       "    </tr>\n",
       "    <tr>\n",
       "      <th>6526</th>\n",
       "      <td>0.0</td>\n",
       "      <td>0.0</td>\n",
       "      <td>1.0</td>\n",
       "      <td>0.0</td>\n",
       "      <td>1.0</td>\n",
       "      <td>0.0</td>\n",
       "      <td>0.0</td>\n",
       "      <td>0.0</td>\n",
       "      <td>1.0</td>\n",
       "      <td>1.0</td>\n",
       "      <td>...</td>\n",
       "      <td>1.0</td>\n",
       "      <td>0.0</td>\n",
       "      <td>0.0</td>\n",
       "      <td>0.0</td>\n",
       "      <td>-1.277278</td>\n",
       "      <td>1.253338</td>\n",
       "      <td>0.0</td>\n",
       "      <td>1.0</td>\n",
       "      <td>1.0</td>\n",
       "      <td>1.0</td>\n",
       "    </tr>\n",
       "    <tr>\n",
       "      <th>6527</th>\n",
       "      <td>1.0</td>\n",
       "      <td>0.0</td>\n",
       "      <td>0.0</td>\n",
       "      <td>0.0</td>\n",
       "      <td>1.0</td>\n",
       "      <td>0.0</td>\n",
       "      <td>1.0</td>\n",
       "      <td>0.0</td>\n",
       "      <td>0.0</td>\n",
       "      <td>1.0</td>\n",
       "      <td>...</td>\n",
       "      <td>1.0</td>\n",
       "      <td>0.0</td>\n",
       "      <td>0.0</td>\n",
       "      <td>0.0</td>\n",
       "      <td>-1.033228</td>\n",
       "      <td>1.185239</td>\n",
       "      <td>0.0</td>\n",
       "      <td>0.0</td>\n",
       "      <td>0.0</td>\n",
       "      <td>1.0</td>\n",
       "    </tr>\n",
       "    <tr>\n",
       "      <th>6528</th>\n",
       "      <td>0.0</td>\n",
       "      <td>0.0</td>\n",
       "      <td>1.0</td>\n",
       "      <td>0.0</td>\n",
       "      <td>0.0</td>\n",
       "      <td>1.0</td>\n",
       "      <td>0.0</td>\n",
       "      <td>1.0</td>\n",
       "      <td>0.0</td>\n",
       "      <td>0.0</td>\n",
       "      <td>...</td>\n",
       "      <td>0.0</td>\n",
       "      <td>0.0</td>\n",
       "      <td>0.0</td>\n",
       "      <td>1.0</td>\n",
       "      <td>1.610637</td>\n",
       "      <td>-1.306193</td>\n",
       "      <td>1.0</td>\n",
       "      <td>0.0</td>\n",
       "      <td>0.0</td>\n",
       "      <td>0.0</td>\n",
       "    </tr>\n",
       "    <tr>\n",
       "      <th>6529</th>\n",
       "      <td>1.0</td>\n",
       "      <td>0.0</td>\n",
       "      <td>0.0</td>\n",
       "      <td>0.0</td>\n",
       "      <td>1.0</td>\n",
       "      <td>0.0</td>\n",
       "      <td>1.0</td>\n",
       "      <td>0.0</td>\n",
       "      <td>0.0</td>\n",
       "      <td>1.0</td>\n",
       "      <td>...</td>\n",
       "      <td>1.0</td>\n",
       "      <td>0.0</td>\n",
       "      <td>0.0</td>\n",
       "      <td>0.0</td>\n",
       "      <td>-0.951879</td>\n",
       "      <td>0.821490</td>\n",
       "      <td>0.0</td>\n",
       "      <td>1.0</td>\n",
       "      <td>0.0</td>\n",
       "      <td>0.0</td>\n",
       "    </tr>\n",
       "  </tbody>\n",
       "</table>\n",
       "<p>6530 rows × 37 columns</p>\n",
       "</div>"
      ],
      "text/plain": [
       "      onehotencoder__multiples_lineas_telefonicas_No  \\\n",
       "0                                                1.0   \n",
       "1                                                1.0   \n",
       "2                                                0.0   \n",
       "3                                                0.0   \n",
       "4                                                0.0   \n",
       "...                                              ...   \n",
       "6525                                             0.0   \n",
       "6526                                             0.0   \n",
       "6527                                             1.0   \n",
       "6528                                             0.0   \n",
       "6529                                             1.0   \n",
       "\n",
       "      onehotencoder__multiples_lineas_telefonicas_No phone service  \\\n",
       "0                                                   0.0              \n",
       "1                                                   0.0              \n",
       "2                                                   1.0              \n",
       "3                                                   0.0              \n",
       "4                                                   1.0              \n",
       "...                                                 ...              \n",
       "6525                                                0.0              \n",
       "6526                                                0.0              \n",
       "6527                                                0.0              \n",
       "6528                                                0.0              \n",
       "6529                                                0.0              \n",
       "\n",
       "      onehotencoder__multiples_lineas_telefonicas_Yes  \\\n",
       "0                                                 0.0   \n",
       "1                                                 0.0   \n",
       "2                                                 0.0   \n",
       "3                                                 1.0   \n",
       "4                                                 0.0   \n",
       "...                                               ...   \n",
       "6525                                              1.0   \n",
       "6526                                              1.0   \n",
       "6527                                              0.0   \n",
       "6528                                              1.0   \n",
       "6529                                              0.0   \n",
       "\n",
       "      onehotencoder__servicio_internet_DSL  \\\n",
       "0                                      0.0   \n",
       "1                                      0.0   \n",
       "2                                      1.0   \n",
       "3                                      0.0   \n",
       "4                                      1.0   \n",
       "...                                    ...   \n",
       "6525                                   0.0   \n",
       "6526                                   0.0   \n",
       "6527                                   0.0   \n",
       "6528                                   0.0   \n",
       "6529                                   0.0   \n",
       "\n",
       "      onehotencoder__servicio_internet_Fibra óptica  \\\n",
       "0                                               1.0   \n",
       "1                                               1.0   \n",
       "2                                               0.0   \n",
       "3                                               0.0   \n",
       "4                                               0.0   \n",
       "...                                             ...   \n",
       "6525                                            1.0   \n",
       "6526                                            1.0   \n",
       "6527                                            1.0   \n",
       "6528                                            0.0   \n",
       "6529                                            1.0   \n",
       "\n",
       "      onehotencoder__servicio_internet_No  onehotencoder__seguridad_online_No  \\\n",
       "0                                     0.0                                 1.0   \n",
       "1                                     0.0                                 1.0   \n",
       "2                                     0.0                                 1.0   \n",
       "3                                     1.0                                 0.0   \n",
       "4                                     0.0                                 0.0   \n",
       "...                                   ...                                 ...   \n",
       "6525                                  0.0                                 1.0   \n",
       "6526                                  0.0                                 0.0   \n",
       "6527                                  0.0                                 1.0   \n",
       "6528                                  1.0                                 0.0   \n",
       "6529                                  0.0                                 1.0   \n",
       "\n",
       "      onehotencoder__seguridad_online_No internet service  \\\n",
       "0                                                   0.0     \n",
       "1                                                   0.0     \n",
       "2                                                   0.0     \n",
       "3                                                   1.0     \n",
       "4                                                   0.0     \n",
       "...                                                 ...     \n",
       "6525                                                0.0     \n",
       "6526                                                0.0     \n",
       "6527                                                0.0     \n",
       "6528                                                1.0     \n",
       "6529                                                0.0     \n",
       "\n",
       "      onehotencoder__seguridad_online_Yes  onehotencoder__respaldo_online_No  \\\n",
       "0                                     0.0                                0.0   \n",
       "1                                     0.0                                1.0   \n",
       "2                                     0.0                                1.0   \n",
       "3                                     0.0                                0.0   \n",
       "4                                     1.0                                0.0   \n",
       "...                                   ...                                ...   \n",
       "6525                                  0.0                                1.0   \n",
       "6526                                  1.0                                1.0   \n",
       "6527                                  0.0                                1.0   \n",
       "6528                                  0.0                                0.0   \n",
       "6529                                  0.0                                1.0   \n",
       "\n",
       "      ...  onehotencoder__forma_de_pago_Cheque electrónico  \\\n",
       "0     ...                                              1.0   \n",
       "1     ...                                              1.0   \n",
       "2     ...                                              1.0   \n",
       "3     ...                                              0.0   \n",
       "4     ...                                              0.0   \n",
       "...   ...                                              ...   \n",
       "6525  ...                                              0.0   \n",
       "6526  ...                                              1.0   \n",
       "6527  ...                                              1.0   \n",
       "6528  ...                                              0.0   \n",
       "6529  ...                                              1.0   \n",
       "\n",
       "      onehotencoder__forma_de_pago_Cheque por correo  \\\n",
       "0                                                0.0   \n",
       "1                                                0.0   \n",
       "2                                                0.0   \n",
       "3                                                1.0   \n",
       "4                                                0.0   \n",
       "...                                              ...   \n",
       "6525                                             0.0   \n",
       "6526                                             0.0   \n",
       "6527                                             0.0   \n",
       "6528                                             0.0   \n",
       "6529                                             0.0   \n",
       "\n",
       "      onehotencoder__forma_de_pago_Tarjeta de crédito  \\\n",
       "0                                                 0.0   \n",
       "1                                                 0.0   \n",
       "2                                                 0.0   \n",
       "3                                                 0.0   \n",
       "4                                                 0.0   \n",
       "...                                               ...   \n",
       "6525                                              0.0   \n",
       "6526                                              0.0   \n",
       "6527                                              0.0   \n",
       "6528                                              0.0   \n",
       "6529                                              0.0   \n",
       "\n",
       "      onehotencoder__forma_de_pago_Transferencia bancaria  \\\n",
       "0                                                   0.0     \n",
       "1                                                   0.0     \n",
       "2                                                   0.0     \n",
       "3                                                   0.0     \n",
       "4                                                   1.0     \n",
       "...                                                 ...     \n",
       "6525                                                1.0     \n",
       "6526                                                0.0     \n",
       "6527                                                0.0     \n",
       "6528                                                1.0     \n",
       "6529                                                0.0     \n",
       "\n",
       "      standardscaler__meses_de_contrato  standardscaler__cargos_mensuales  \\\n",
       "0                             -1.195928                          0.650412   \n",
       "1                              0.187017                          0.839761   \n",
       "2                             -1.277278                         -0.962376   \n",
       "3                             -1.277278                         -1.319481   \n",
       "4                              0.878490                         -0.615236   \n",
       "...                                 ...                               ...   \n",
       "6525                           1.081864                          1.155342   \n",
       "6526                          -1.277278                          1.253338   \n",
       "6527                          -1.033228                          1.185239   \n",
       "6528                           1.610637                         -1.306193   \n",
       "6529                          -0.951879                          0.821490   \n",
       "\n",
       "      remainder__ciudadano_mayor  remainder__pareja  remainder__dependientes  \\\n",
       "0                            0.0                0.0                      0.0   \n",
       "1                            1.0                1.0                      0.0   \n",
       "2                            0.0                0.0                      0.0   \n",
       "3                            0.0                0.0                      0.0   \n",
       "4                            0.0                0.0                      0.0   \n",
       "...                          ...                ...                      ...   \n",
       "6525                         0.0                1.0                      0.0   \n",
       "6526                         0.0                1.0                      1.0   \n",
       "6527                         0.0                0.0                      0.0   \n",
       "6528                         1.0                0.0                      0.0   \n",
       "6529                         0.0                1.0                      0.0   \n",
       "\n",
       "      remainder__factura_en_linea  \n",
       "0                             0.0  \n",
       "1                             0.0  \n",
       "2                             1.0  \n",
       "3                             1.0  \n",
       "4                             0.0  \n",
       "...                           ...  \n",
       "6525                          1.0  \n",
       "6526                          1.0  \n",
       "6527                          1.0  \n",
       "6528                          0.0  \n",
       "6529                          0.0  \n",
       "\n",
       "[6530 rows x 37 columns]"
      ]
     },
     "execution_count": 52,
     "metadata": {},
     "output_type": "execute_result"
    }
   ],
   "source": [
    "X_train_df = pd.DataFrame(X_train_encoded, columns = one_hot.get_feature_names_out())\n",
    "X_train_df"
   ]
  },
  {
   "cell_type": "code",
   "execution_count": 53,
   "metadata": {
    "colab": {
     "base_uri": "https://localhost:8080/"
    },
    "id": "12sWeu2gTdVL",
    "outputId": "e4784926-32e2-41ae-ac95-e7f24645807c",
    "tags": []
   },
   "outputs": [
    {
     "name": "stdout",
     "output_type": "stream",
     "text": [
      "<class 'pandas.core.frame.DataFrame'>\n",
      "RangeIndex: 6530 entries, 0 to 6529\n",
      "Data columns (total 37 columns):\n",
      " #   Column                                                         Non-Null Count  Dtype  \n",
      "---  ------                                                         --------------  -----  \n",
      " 0   onehotencoder__multiples_lineas_telefonicas_No                 6530 non-null   float64\n",
      " 1   onehotencoder__multiples_lineas_telefonicas_No phone service   6530 non-null   float64\n",
      " 2   onehotencoder__multiples_lineas_telefonicas_Yes                6530 non-null   float64\n",
      " 3   onehotencoder__servicio_internet_DSL                           6530 non-null   float64\n",
      " 4   onehotencoder__servicio_internet_Fibra óptica                  6530 non-null   float64\n",
      " 5   onehotencoder__servicio_internet_No                            6530 non-null   float64\n",
      " 6   onehotencoder__seguridad_online_No                             6530 non-null   float64\n",
      " 7   onehotencoder__seguridad_online_No internet service            6530 non-null   float64\n",
      " 8   onehotencoder__seguridad_online_Yes                            6530 non-null   float64\n",
      " 9   onehotencoder__respaldo_online_No                              6530 non-null   float64\n",
      " 10  onehotencoder__respaldo_online_No internet service             6530 non-null   float64\n",
      " 11  onehotencoder__respaldo_online_Yes                             6530 non-null   float64\n",
      " 12  onehotencoder__proteccion_del_dispositivo_No                   6530 non-null   float64\n",
      " 13  onehotencoder__proteccion_del_dispositivo_No internet service  6530 non-null   float64\n",
      " 14  onehotencoder__proteccion_del_dispositivo_Yes                  6530 non-null   float64\n",
      " 15  onehotencoder__soporte_tecnico_No                              6530 non-null   float64\n",
      " 16  onehotencoder__soporte_tecnico_No internet service             6530 non-null   float64\n",
      " 17  onehotencoder__soporte_tecnico_Yes                             6530 non-null   float64\n",
      " 18  onehotencoder__servicio_tv_No                                  6530 non-null   float64\n",
      " 19  onehotencoder__servicio_tv_No internet service                 6530 non-null   float64\n",
      " 20  onehotencoder__servicio_tv_Yes                                 6530 non-null   float64\n",
      " 21  onehotencoder__servicio_de_peliculas_No                        6530 non-null   float64\n",
      " 22  onehotencoder__servicio_de_peliculas_No internet service       6530 non-null   float64\n",
      " 23  onehotencoder__servicio_de_peliculas_Yes                       6530 non-null   float64\n",
      " 24  onehotencoder__tipo_de_contrato_Dos años                       6530 non-null   float64\n",
      " 25  onehotencoder__tipo_de_contrato_Mes a mes                      6530 non-null   float64\n",
      " 26  onehotencoder__tipo_de_contrato_Un año                         6530 non-null   float64\n",
      " 27  onehotencoder__forma_de_pago_Cheque electrónico                6530 non-null   float64\n",
      " 28  onehotencoder__forma_de_pago_Cheque por correo                 6530 non-null   float64\n",
      " 29  onehotencoder__forma_de_pago_Tarjeta de crédito                6530 non-null   float64\n",
      " 30  onehotencoder__forma_de_pago_Transferencia bancaria            6530 non-null   float64\n",
      " 31  standardscaler__meses_de_contrato                              6530 non-null   float64\n",
      " 32  standardscaler__cargos_mensuales                               6530 non-null   float64\n",
      " 33  remainder__ciudadano_mayor                                     6530 non-null   float64\n",
      " 34  remainder__pareja                                              6530 non-null   float64\n",
      " 35  remainder__dependientes                                        6530 non-null   float64\n",
      " 36  remainder__factura_en_linea                                    6530 non-null   float64\n",
      "dtypes: float64(37)\n",
      "memory usage: 1.8 MB\n"
     ]
    }
   ],
   "source": [
    "X_train_df.info()"
   ]
  },
  {
   "cell_type": "code",
   "execution_count": 54,
   "metadata": {
    "colab": {
     "base_uri": "https://localhost:8080/"
    },
    "id": "Rpxqf-R7iTOK",
    "outputId": "074974f2-e06e-4d3a-ee94-c5ba7bb3d046",
    "tags": []
   },
   "outputs": [
    {
     "data": {
      "text/html": [
       "<div>\n",
       "<style scoped>\n",
       "    .dataframe tbody tr th:only-of-type {\n",
       "        vertical-align: middle;\n",
       "    }\n",
       "\n",
       "    .dataframe tbody tr th {\n",
       "        vertical-align: top;\n",
       "    }\n",
       "\n",
       "    .dataframe thead th {\n",
       "        text-align: right;\n",
       "    }\n",
       "</style>\n",
       "<table border=\"1\" class=\"dataframe\">\n",
       "  <thead>\n",
       "    <tr style=\"text-align: right;\">\n",
       "      <th></th>\n",
       "      <th>onehotencoder__multiples_lineas_telefonicas_No</th>\n",
       "      <th>onehotencoder__multiples_lineas_telefonicas_No phone service</th>\n",
       "      <th>onehotencoder__multiples_lineas_telefonicas_Yes</th>\n",
       "      <th>onehotencoder__servicio_internet_DSL</th>\n",
       "      <th>onehotencoder__servicio_internet_Fibra óptica</th>\n",
       "      <th>onehotencoder__servicio_internet_No</th>\n",
       "      <th>onehotencoder__seguridad_online_No</th>\n",
       "      <th>onehotencoder__seguridad_online_No internet service</th>\n",
       "      <th>onehotencoder__seguridad_online_Yes</th>\n",
       "      <th>onehotencoder__respaldo_online_No</th>\n",
       "      <th>...</th>\n",
       "      <th>onehotencoder__forma_de_pago_Cheque electrónico</th>\n",
       "      <th>onehotencoder__forma_de_pago_Cheque por correo</th>\n",
       "      <th>onehotencoder__forma_de_pago_Tarjeta de crédito</th>\n",
       "      <th>onehotencoder__forma_de_pago_Transferencia bancaria</th>\n",
       "      <th>standardscaler__meses_de_contrato</th>\n",
       "      <th>standardscaler__cargos_mensuales</th>\n",
       "      <th>remainder__ciudadano_mayor</th>\n",
       "      <th>remainder__pareja</th>\n",
       "      <th>remainder__dependientes</th>\n",
       "      <th>remainder__factura_en_linea</th>\n",
       "    </tr>\n",
       "  </thead>\n",
       "  <tbody>\n",
       "    <tr>\n",
       "      <th>0</th>\n",
       "      <td>1.0</td>\n",
       "      <td>0.0</td>\n",
       "      <td>0.0</td>\n",
       "      <td>0.0</td>\n",
       "      <td>0.0</td>\n",
       "      <td>1.0</td>\n",
       "      <td>0.0</td>\n",
       "      <td>1.0</td>\n",
       "      <td>0.0</td>\n",
       "      <td>0.0</td>\n",
       "      <td>...</td>\n",
       "      <td>1.0</td>\n",
       "      <td>0.0</td>\n",
       "      <td>0.0</td>\n",
       "      <td>0.0</td>\n",
       "      <td>-1.236603</td>\n",
       "      <td>-1.512152</td>\n",
       "      <td>1.0</td>\n",
       "      <td>0.0</td>\n",
       "      <td>0.0</td>\n",
       "      <td>0.0</td>\n",
       "    </tr>\n",
       "    <tr>\n",
       "      <th>1</th>\n",
       "      <td>1.0</td>\n",
       "      <td>0.0</td>\n",
       "      <td>0.0</td>\n",
       "      <td>0.0</td>\n",
       "      <td>0.0</td>\n",
       "      <td>1.0</td>\n",
       "      <td>0.0</td>\n",
       "      <td>1.0</td>\n",
       "      <td>0.0</td>\n",
       "      <td>0.0</td>\n",
       "      <td>...</td>\n",
       "      <td>0.0</td>\n",
       "      <td>1.0</td>\n",
       "      <td>0.0</td>\n",
       "      <td>0.0</td>\n",
       "      <td>-1.236603</td>\n",
       "      <td>-1.502186</td>\n",
       "      <td>0.0</td>\n",
       "      <td>0.0</td>\n",
       "      <td>0.0</td>\n",
       "      <td>0.0</td>\n",
       "    </tr>\n",
       "    <tr>\n",
       "      <th>2</th>\n",
       "      <td>0.0</td>\n",
       "      <td>0.0</td>\n",
       "      <td>1.0</td>\n",
       "      <td>1.0</td>\n",
       "      <td>0.0</td>\n",
       "      <td>0.0</td>\n",
       "      <td>0.0</td>\n",
       "      <td>0.0</td>\n",
       "      <td>1.0</td>\n",
       "      <td>1.0</td>\n",
       "      <td>...</td>\n",
       "      <td>0.0</td>\n",
       "      <td>0.0</td>\n",
       "      <td>1.0</td>\n",
       "      <td>0.0</td>\n",
       "      <td>0.390391</td>\n",
       "      <td>0.652073</td>\n",
       "      <td>0.0</td>\n",
       "      <td>1.0</td>\n",
       "      <td>0.0</td>\n",
       "      <td>0.0</td>\n",
       "    </tr>\n",
       "    <tr>\n",
       "      <th>3</th>\n",
       "      <td>0.0</td>\n",
       "      <td>0.0</td>\n",
       "      <td>1.0</td>\n",
       "      <td>0.0</td>\n",
       "      <td>1.0</td>\n",
       "      <td>0.0</td>\n",
       "      <td>0.0</td>\n",
       "      <td>0.0</td>\n",
       "      <td>1.0</td>\n",
       "      <td>1.0</td>\n",
       "      <td>...</td>\n",
       "      <td>0.0</td>\n",
       "      <td>0.0</td>\n",
       "      <td>1.0</td>\n",
       "      <td>0.0</td>\n",
       "      <td>1.610637</td>\n",
       "      <td>1.338047</td>\n",
       "      <td>0.0</td>\n",
       "      <td>1.0</td>\n",
       "      <td>0.0</td>\n",
       "      <td>1.0</td>\n",
       "    </tr>\n",
       "    <tr>\n",
       "      <th>4</th>\n",
       "      <td>0.0</td>\n",
       "      <td>1.0</td>\n",
       "      <td>0.0</td>\n",
       "      <td>1.0</td>\n",
       "      <td>0.0</td>\n",
       "      <td>0.0</td>\n",
       "      <td>1.0</td>\n",
       "      <td>0.0</td>\n",
       "      <td>0.0</td>\n",
       "      <td>1.0</td>\n",
       "      <td>...</td>\n",
       "      <td>1.0</td>\n",
       "      <td>0.0</td>\n",
       "      <td>0.0</td>\n",
       "      <td>0.0</td>\n",
       "      <td>-0.097707</td>\n",
       "      <td>-0.811229</td>\n",
       "      <td>1.0</td>\n",
       "      <td>0.0</td>\n",
       "      <td>0.0</td>\n",
       "      <td>1.0</td>\n",
       "    </tr>\n",
       "    <tr>\n",
       "      <th>...</th>\n",
       "      <td>...</td>\n",
       "      <td>...</td>\n",
       "      <td>...</td>\n",
       "      <td>...</td>\n",
       "      <td>...</td>\n",
       "      <td>...</td>\n",
       "      <td>...</td>\n",
       "      <td>...</td>\n",
       "      <td>...</td>\n",
       "      <td>...</td>\n",
       "      <td>...</td>\n",
       "      <td>...</td>\n",
       "      <td>...</td>\n",
       "      <td>...</td>\n",
       "      <td>...</td>\n",
       "      <td>...</td>\n",
       "      <td>...</td>\n",
       "      <td>...</td>\n",
       "      <td>...</td>\n",
       "      <td>...</td>\n",
       "      <td>...</td>\n",
       "    </tr>\n",
       "    <tr>\n",
       "      <th>721</th>\n",
       "      <td>1.0</td>\n",
       "      <td>0.0</td>\n",
       "      <td>0.0</td>\n",
       "      <td>0.0</td>\n",
       "      <td>0.0</td>\n",
       "      <td>1.0</td>\n",
       "      <td>0.0</td>\n",
       "      <td>1.0</td>\n",
       "      <td>0.0</td>\n",
       "      <td>0.0</td>\n",
       "      <td>...</td>\n",
       "      <td>0.0</td>\n",
       "      <td>0.0</td>\n",
       "      <td>0.0</td>\n",
       "      <td>1.0</td>\n",
       "      <td>-0.667155</td>\n",
       "      <td>-1.482255</td>\n",
       "      <td>0.0</td>\n",
       "      <td>0.0</td>\n",
       "      <td>0.0</td>\n",
       "      <td>0.0</td>\n",
       "    </tr>\n",
       "    <tr>\n",
       "      <th>722</th>\n",
       "      <td>0.0</td>\n",
       "      <td>0.0</td>\n",
       "      <td>1.0</td>\n",
       "      <td>1.0</td>\n",
       "      <td>0.0</td>\n",
       "      <td>0.0</td>\n",
       "      <td>1.0</td>\n",
       "      <td>0.0</td>\n",
       "      <td>0.0</td>\n",
       "      <td>0.0</td>\n",
       "      <td>...</td>\n",
       "      <td>0.0</td>\n",
       "      <td>0.0</td>\n",
       "      <td>1.0</td>\n",
       "      <td>0.0</td>\n",
       "      <td>0.309042</td>\n",
       "      <td>-0.269757</td>\n",
       "      <td>0.0</td>\n",
       "      <td>1.0</td>\n",
       "      <td>0.0</td>\n",
       "      <td>0.0</td>\n",
       "    </tr>\n",
       "    <tr>\n",
       "      <th>723</th>\n",
       "      <td>0.0</td>\n",
       "      <td>1.0</td>\n",
       "      <td>0.0</td>\n",
       "      <td>1.0</td>\n",
       "      <td>0.0</td>\n",
       "      <td>0.0</td>\n",
       "      <td>1.0</td>\n",
       "      <td>0.0</td>\n",
       "      <td>0.0</td>\n",
       "      <td>0.0</td>\n",
       "      <td>...</td>\n",
       "      <td>0.0</td>\n",
       "      <td>1.0</td>\n",
       "      <td>0.0</td>\n",
       "      <td>0.0</td>\n",
       "      <td>-0.992554</td>\n",
       "      <td>-1.178300</td>\n",
       "      <td>0.0</td>\n",
       "      <td>0.0</td>\n",
       "      <td>0.0</td>\n",
       "      <td>1.0</td>\n",
       "    </tr>\n",
       "    <tr>\n",
       "      <th>724</th>\n",
       "      <td>1.0</td>\n",
       "      <td>0.0</td>\n",
       "      <td>0.0</td>\n",
       "      <td>0.0</td>\n",
       "      <td>0.0</td>\n",
       "      <td>1.0</td>\n",
       "      <td>0.0</td>\n",
       "      <td>1.0</td>\n",
       "      <td>0.0</td>\n",
       "      <td>0.0</td>\n",
       "      <td>...</td>\n",
       "      <td>0.0</td>\n",
       "      <td>0.0</td>\n",
       "      <td>0.0</td>\n",
       "      <td>1.0</td>\n",
       "      <td>-1.114578</td>\n",
       "      <td>-1.483915</td>\n",
       "      <td>1.0</td>\n",
       "      <td>0.0</td>\n",
       "      <td>0.0</td>\n",
       "      <td>0.0</td>\n",
       "    </tr>\n",
       "    <tr>\n",
       "      <th>725</th>\n",
       "      <td>1.0</td>\n",
       "      <td>0.0</td>\n",
       "      <td>0.0</td>\n",
       "      <td>0.0</td>\n",
       "      <td>0.0</td>\n",
       "      <td>1.0</td>\n",
       "      <td>0.0</td>\n",
       "      <td>1.0</td>\n",
       "      <td>0.0</td>\n",
       "      <td>0.0</td>\n",
       "      <td>...</td>\n",
       "      <td>0.0</td>\n",
       "      <td>1.0</td>\n",
       "      <td>0.0</td>\n",
       "      <td>0.0</td>\n",
       "      <td>-1.073903</td>\n",
       "      <td>-1.500525</td>\n",
       "      <td>0.0</td>\n",
       "      <td>0.0</td>\n",
       "      <td>0.0</td>\n",
       "      <td>0.0</td>\n",
       "    </tr>\n",
       "  </tbody>\n",
       "</table>\n",
       "<p>726 rows × 37 columns</p>\n",
       "</div>"
      ],
      "text/plain": [
       "     onehotencoder__multiples_lineas_telefonicas_No  \\\n",
       "0                                               1.0   \n",
       "1                                               1.0   \n",
       "2                                               0.0   \n",
       "3                                               0.0   \n",
       "4                                               0.0   \n",
       "..                                              ...   \n",
       "721                                             1.0   \n",
       "722                                             0.0   \n",
       "723                                             0.0   \n",
       "724                                             1.0   \n",
       "725                                             1.0   \n",
       "\n",
       "     onehotencoder__multiples_lineas_telefonicas_No phone service  \\\n",
       "0                                                  0.0              \n",
       "1                                                  0.0              \n",
       "2                                                  0.0              \n",
       "3                                                  0.0              \n",
       "4                                                  1.0              \n",
       "..                                                 ...              \n",
       "721                                                0.0              \n",
       "722                                                0.0              \n",
       "723                                                1.0              \n",
       "724                                                0.0              \n",
       "725                                                0.0              \n",
       "\n",
       "     onehotencoder__multiples_lineas_telefonicas_Yes  \\\n",
       "0                                                0.0   \n",
       "1                                                0.0   \n",
       "2                                                1.0   \n",
       "3                                                1.0   \n",
       "4                                                0.0   \n",
       "..                                               ...   \n",
       "721                                              0.0   \n",
       "722                                              1.0   \n",
       "723                                              0.0   \n",
       "724                                              0.0   \n",
       "725                                              0.0   \n",
       "\n",
       "     onehotencoder__servicio_internet_DSL  \\\n",
       "0                                     0.0   \n",
       "1                                     0.0   \n",
       "2                                     1.0   \n",
       "3                                     0.0   \n",
       "4                                     1.0   \n",
       "..                                    ...   \n",
       "721                                   0.0   \n",
       "722                                   1.0   \n",
       "723                                   1.0   \n",
       "724                                   0.0   \n",
       "725                                   0.0   \n",
       "\n",
       "     onehotencoder__servicio_internet_Fibra óptica  \\\n",
       "0                                              0.0   \n",
       "1                                              0.0   \n",
       "2                                              0.0   \n",
       "3                                              1.0   \n",
       "4                                              0.0   \n",
       "..                                             ...   \n",
       "721                                            0.0   \n",
       "722                                            0.0   \n",
       "723                                            0.0   \n",
       "724                                            0.0   \n",
       "725                                            0.0   \n",
       "\n",
       "     onehotencoder__servicio_internet_No  onehotencoder__seguridad_online_No  \\\n",
       "0                                    1.0                                 0.0   \n",
       "1                                    1.0                                 0.0   \n",
       "2                                    0.0                                 0.0   \n",
       "3                                    0.0                                 0.0   \n",
       "4                                    0.0                                 1.0   \n",
       "..                                   ...                                 ...   \n",
       "721                                  1.0                                 0.0   \n",
       "722                                  0.0                                 1.0   \n",
       "723                                  0.0                                 1.0   \n",
       "724                                  1.0                                 0.0   \n",
       "725                                  1.0                                 0.0   \n",
       "\n",
       "     onehotencoder__seguridad_online_No internet service  \\\n",
       "0                                                  1.0     \n",
       "1                                                  1.0     \n",
       "2                                                  0.0     \n",
       "3                                                  0.0     \n",
       "4                                                  0.0     \n",
       "..                                                 ...     \n",
       "721                                                1.0     \n",
       "722                                                0.0     \n",
       "723                                                0.0     \n",
       "724                                                1.0     \n",
       "725                                                1.0     \n",
       "\n",
       "     onehotencoder__seguridad_online_Yes  onehotencoder__respaldo_online_No  \\\n",
       "0                                    0.0                                0.0   \n",
       "1                                    0.0                                0.0   \n",
       "2                                    1.0                                1.0   \n",
       "3                                    1.0                                1.0   \n",
       "4                                    0.0                                1.0   \n",
       "..                                   ...                                ...   \n",
       "721                                  0.0                                0.0   \n",
       "722                                  0.0                                0.0   \n",
       "723                                  0.0                                0.0   \n",
       "724                                  0.0                                0.0   \n",
       "725                                  0.0                                0.0   \n",
       "\n",
       "     ...  onehotencoder__forma_de_pago_Cheque electrónico  \\\n",
       "0    ...                                              1.0   \n",
       "1    ...                                              0.0   \n",
       "2    ...                                              0.0   \n",
       "3    ...                                              0.0   \n",
       "4    ...                                              1.0   \n",
       "..   ...                                              ...   \n",
       "721  ...                                              0.0   \n",
       "722  ...                                              0.0   \n",
       "723  ...                                              0.0   \n",
       "724  ...                                              0.0   \n",
       "725  ...                                              0.0   \n",
       "\n",
       "     onehotencoder__forma_de_pago_Cheque por correo  \\\n",
       "0                                               0.0   \n",
       "1                                               1.0   \n",
       "2                                               0.0   \n",
       "3                                               0.0   \n",
       "4                                               0.0   \n",
       "..                                              ...   \n",
       "721                                             0.0   \n",
       "722                                             0.0   \n",
       "723                                             1.0   \n",
       "724                                             0.0   \n",
       "725                                             1.0   \n",
       "\n",
       "     onehotencoder__forma_de_pago_Tarjeta de crédito  \\\n",
       "0                                                0.0   \n",
       "1                                                0.0   \n",
       "2                                                1.0   \n",
       "3                                                1.0   \n",
       "4                                                0.0   \n",
       "..                                               ...   \n",
       "721                                              0.0   \n",
       "722                                              1.0   \n",
       "723                                              0.0   \n",
       "724                                              0.0   \n",
       "725                                              0.0   \n",
       "\n",
       "     onehotencoder__forma_de_pago_Transferencia bancaria  \\\n",
       "0                                                  0.0     \n",
       "1                                                  0.0     \n",
       "2                                                  0.0     \n",
       "3                                                  0.0     \n",
       "4                                                  0.0     \n",
       "..                                                 ...     \n",
       "721                                                1.0     \n",
       "722                                                0.0     \n",
       "723                                                0.0     \n",
       "724                                                1.0     \n",
       "725                                                0.0     \n",
       "\n",
       "     standardscaler__meses_de_contrato  standardscaler__cargos_mensuales  \\\n",
       "0                            -1.236603                         -1.512152   \n",
       "1                            -1.236603                         -1.502186   \n",
       "2                             0.390391                          0.652073   \n",
       "3                             1.610637                          1.338047   \n",
       "4                            -0.097707                         -0.811229   \n",
       "..                                 ...                               ...   \n",
       "721                          -0.667155                         -1.482255   \n",
       "722                           0.309042                         -0.269757   \n",
       "723                          -0.992554                         -1.178300   \n",
       "724                          -1.114578                         -1.483915   \n",
       "725                          -1.073903                         -1.500525   \n",
       "\n",
       "     remainder__ciudadano_mayor  remainder__pareja  remainder__dependientes  \\\n",
       "0                           1.0                0.0                      0.0   \n",
       "1                           0.0                0.0                      0.0   \n",
       "2                           0.0                1.0                      0.0   \n",
       "3                           0.0                1.0                      0.0   \n",
       "4                           1.0                0.0                      0.0   \n",
       "..                          ...                ...                      ...   \n",
       "721                         0.0                0.0                      0.0   \n",
       "722                         0.0                1.0                      0.0   \n",
       "723                         0.0                0.0                      0.0   \n",
       "724                         1.0                0.0                      0.0   \n",
       "725                         0.0                0.0                      0.0   \n",
       "\n",
       "     remainder__factura_en_linea  \n",
       "0                            0.0  \n",
       "1                            0.0  \n",
       "2                            0.0  \n",
       "3                            1.0  \n",
       "4                            1.0  \n",
       "..                           ...  \n",
       "721                          0.0  \n",
       "722                          0.0  \n",
       "723                          1.0  \n",
       "724                          0.0  \n",
       "725                          0.0  \n",
       "\n",
       "[726 rows x 37 columns]"
      ]
     },
     "execution_count": 54,
     "metadata": {},
     "output_type": "execute_result"
    }
   ],
   "source": [
    "X_test_df = pd.DataFrame(X_test_encoded, columns=one_hot.get_feature_names_out())\n",
    "X_test_df"
   ]
  },
  {
   "cell_type": "code",
   "execution_count": 55,
   "metadata": {
    "colab": {
     "base_uri": "https://localhost:8080/"
    },
    "id": "t2-qd_9-ie2O",
    "outputId": "6232ef12-df38-43a8-de00-51e6ef8c56dd",
    "tags": []
   },
   "outputs": [
    {
     "name": "stdout",
     "output_type": "stream",
     "text": [
      "<class 'pandas.core.frame.DataFrame'>\n",
      "RangeIndex: 726 entries, 0 to 725\n",
      "Data columns (total 37 columns):\n",
      " #   Column                                                         Non-Null Count  Dtype  \n",
      "---  ------                                                         --------------  -----  \n",
      " 0   onehotencoder__multiples_lineas_telefonicas_No                 726 non-null    float64\n",
      " 1   onehotencoder__multiples_lineas_telefonicas_No phone service   726 non-null    float64\n",
      " 2   onehotencoder__multiples_lineas_telefonicas_Yes                726 non-null    float64\n",
      " 3   onehotencoder__servicio_internet_DSL                           726 non-null    float64\n",
      " 4   onehotencoder__servicio_internet_Fibra óptica                  726 non-null    float64\n",
      " 5   onehotencoder__servicio_internet_No                            726 non-null    float64\n",
      " 6   onehotencoder__seguridad_online_No                             726 non-null    float64\n",
      " 7   onehotencoder__seguridad_online_No internet service            726 non-null    float64\n",
      " 8   onehotencoder__seguridad_online_Yes                            726 non-null    float64\n",
      " 9   onehotencoder__respaldo_online_No                              726 non-null    float64\n",
      " 10  onehotencoder__respaldo_online_No internet service             726 non-null    float64\n",
      " 11  onehotencoder__respaldo_online_Yes                             726 non-null    float64\n",
      " 12  onehotencoder__proteccion_del_dispositivo_No                   726 non-null    float64\n",
      " 13  onehotencoder__proteccion_del_dispositivo_No internet service  726 non-null    float64\n",
      " 14  onehotencoder__proteccion_del_dispositivo_Yes                  726 non-null    float64\n",
      " 15  onehotencoder__soporte_tecnico_No                              726 non-null    float64\n",
      " 16  onehotencoder__soporte_tecnico_No internet service             726 non-null    float64\n",
      " 17  onehotencoder__soporte_tecnico_Yes                             726 non-null    float64\n",
      " 18  onehotencoder__servicio_tv_No                                  726 non-null    float64\n",
      " 19  onehotencoder__servicio_tv_No internet service                 726 non-null    float64\n",
      " 20  onehotencoder__servicio_tv_Yes                                 726 non-null    float64\n",
      " 21  onehotencoder__servicio_de_peliculas_No                        726 non-null    float64\n",
      " 22  onehotencoder__servicio_de_peliculas_No internet service       726 non-null    float64\n",
      " 23  onehotencoder__servicio_de_peliculas_Yes                       726 non-null    float64\n",
      " 24  onehotencoder__tipo_de_contrato_Dos años                       726 non-null    float64\n",
      " 25  onehotencoder__tipo_de_contrato_Mes a mes                      726 non-null    float64\n",
      " 26  onehotencoder__tipo_de_contrato_Un año                         726 non-null    float64\n",
      " 27  onehotencoder__forma_de_pago_Cheque electrónico                726 non-null    float64\n",
      " 28  onehotencoder__forma_de_pago_Cheque por correo                 726 non-null    float64\n",
      " 29  onehotencoder__forma_de_pago_Tarjeta de crédito                726 non-null    float64\n",
      " 30  onehotencoder__forma_de_pago_Transferencia bancaria            726 non-null    float64\n",
      " 31  standardscaler__meses_de_contrato                              726 non-null    float64\n",
      " 32  standardscaler__cargos_mensuales                               726 non-null    float64\n",
      " 33  remainder__ciudadano_mayor                                     726 non-null    float64\n",
      " 34  remainder__pareja                                              726 non-null    float64\n",
      " 35  remainder__dependientes                                        726 non-null    float64\n",
      " 36  remainder__factura_en_linea                                    726 non-null    float64\n",
      "dtypes: float64(37)\n",
      "memory usage: 210.0 KB\n"
     ]
    }
   ],
   "source": [
    "X_test_df.info()"
   ]
  },
  {
   "cell_type": "code",
   "execution_count": 57,
   "metadata": {
    "colab": {
     "base_uri": "https://localhost:8080/"
    },
    "id": "bN2be346G7n7",
    "outputId": "bb62dced-f1fc-41c3-f34c-c981180af9de",
    "tags": []
   },
   "outputs": [
    {
     "name": "stdout",
     "output_type": "stream",
     "text": [
      "churn                                                            1.000000\n",
      "onehotencoder__tipo_de_contrato_Mes a mes                        0.387936\n",
      "onehotencoder__seguridad_online_No                               0.321079\n",
      "onehotencoder__soporte_tecnico_No                                0.317983\n",
      "onehotencoder__servicio_internet_Fibra óptica                    0.293580\n",
      "onehotencoder__forma_de_pago_Cheque electrónico                  0.284331\n",
      "onehotencoder__respaldo_online_No                                0.248685\n",
      "onehotencoder__proteccion_del_dispositivo_No                     0.239754\n",
      "standardscaler__cargos_mensuales                                 0.183494\n",
      "remainder__factura_en_linea                                      0.179416\n",
      "remainder__ciudadano_mayor                                       0.149616\n",
      "onehotencoder__servicio_de_peliculas_No                          0.126687\n",
      "onehotencoder__servicio_tv_No                                    0.116741\n",
      "onehotencoder__servicio_tv_Yes                                   0.064059\n",
      "onehotencoder__servicio_de_peliculas_Yes                         0.054198\n",
      "onehotencoder__multiples_lineas_telefonicas_Yes                  0.040962\n",
      "onehotencoder__multiples_lineas_telefonicas_No phone service    -0.009017\n",
      "onehotencoder__multiples_lineas_telefonicas_No                  -0.035124\n",
      "onehotencoder__proteccion_del_dispositivo_Yes                   -0.064555\n",
      "onehotencoder__respaldo_online_Yes                              -0.073765\n",
      "onehotencoder__forma_de_pago_Cheque por correo                  -0.089522\n",
      "onehotencoder__forma_de_pago_Transferencia bancaria             -0.108337\n",
      "onehotencoder__servicio_internet_DSL                            -0.120564\n",
      "onehotencoder__forma_de_pago_Tarjeta de crédito                 -0.125929\n",
      "remainder__pareja                                               -0.131889\n",
      "remainder__dependientes                                         -0.153350\n",
      "onehotencoder__soporte_tecnico_Yes                              -0.155957\n",
      "onehotencoder__seguridad_online_Yes                             -0.159322\n",
      "onehotencoder__tipo_de_contrato_Un año                          -0.175754\n",
      "onehotencoder__servicio_internet_No                             -0.214606\n",
      "onehotencoder__servicio_tv_No internet service                  -0.214606\n",
      "onehotencoder__soporte_tecnico_No internet service              -0.214606\n",
      "onehotencoder__respaldo_online_No internet service              -0.214606\n",
      "onehotencoder__proteccion_del_dispositivo_No internet service   -0.214606\n",
      "onehotencoder__seguridad_online_No internet service             -0.214606\n",
      "onehotencoder__servicio_de_peliculas_No internet service        -0.214606\n",
      "onehotencoder__tipo_de_contrato_Dos años                        -0.285095\n",
      "standardscaler__meses_de_contrato                               -0.326171\n",
      "Name: churn, dtype: float64\n"
     ]
    }
   ],
   "source": [
    "X_train_corr = X_train_df.copy()\n",
    "X_train_corr['churn'] = y_train.reset_index(drop=True)\n",
    "\n",
    "correlaciones = X_train_corr.corr()['churn'].sort_values(ascending=False)\n",
    "print(correlaciones)"
   ]
  },
  {
   "cell_type": "code",
   "execution_count": 58,
   "metadata": {
    "colab": {
     "base_uri": "https://localhost:8080/"
    },
    "id": "FS880Y5rPixe",
    "outputId": "a638cb3d-3598-446a-8afa-5a0d68972b59",
    "tags": []
   },
   "outputs": [
    {
     "name": "stdout",
     "output_type": "stream",
     "text": [
      "Número óptimo de variables: 29\n"
     ]
    }
   ],
   "source": [
    "from sklearn.linear_model import LogisticRegression\n",
    "from sklearn.feature_selection import RFECV\n",
    "\n",
    "modelo_l1 = LogisticRegression(penalty='l1', solver='liblinear', random_state=42)\n",
    "selector = RFECV(estimator=modelo_l1, step=1, cv=5, scoring='accuracy')\n",
    "selector.fit(X_train_df, y_train)\n",
    "\n",
    "selected_features = X_train_df.columns[selector.support_]\n",
    "print(\"Número óptimo de variables:\", selector.n_features_)"
   ]
  },
  {
   "cell_type": "code",
   "execution_count": 59,
   "metadata": {
    "colab": {
     "base_uri": "https://localhost:8080/"
    },
    "id": "5tOZhrqgNjEn",
    "outputId": "f0035bab-01ca-4526-bcbb-c533726378d9",
    "tags": []
   },
   "outputs": [
    {
     "name": "stdout",
     "output_type": "stream",
     "text": [
      "Las variables seleccionadas son:\n",
      "Index(['onehotencoder__multiples_lineas_telefonicas_No',\n",
      "       'onehotencoder__multiples_lineas_telefonicas_No phone service',\n",
      "       'onehotencoder__servicio_internet_DSL',\n",
      "       'onehotencoder__servicio_internet_Fibra óptica',\n",
      "       'onehotencoder__servicio_internet_No',\n",
      "       'onehotencoder__seguridad_online_No internet service',\n",
      "       'onehotencoder__seguridad_online_Yes',\n",
      "       'onehotencoder__respaldo_online_No internet service',\n",
      "       'onehotencoder__respaldo_online_Yes',\n",
      "       'onehotencoder__proteccion_del_dispositivo_No internet service',\n",
      "       'onehotencoder__soporte_tecnico_No internet service',\n",
      "       'onehotencoder__soporte_tecnico_Yes', 'onehotencoder__servicio_tv_No',\n",
      "       'onehotencoder__servicio_tv_No internet service',\n",
      "       'onehotencoder__servicio_de_peliculas_No',\n",
      "       'onehotencoder__servicio_de_peliculas_No internet service',\n",
      "       'onehotencoder__servicio_de_peliculas_Yes',\n",
      "       'onehotencoder__tipo_de_contrato_Dos años',\n",
      "       'onehotencoder__tipo_de_contrato_Mes a mes',\n",
      "       'onehotencoder__tipo_de_contrato_Un año',\n",
      "       'onehotencoder__forma_de_pago_Cheque electrónico',\n",
      "       'onehotencoder__forma_de_pago_Cheque por correo',\n",
      "       'onehotencoder__forma_de_pago_Tarjeta de crédito',\n",
      "       'standardscaler__meses_de_contrato', 'standardscaler__cargos_mensuales',\n",
      "       'remainder__ciudadano_mayor', 'remainder__pareja',\n",
      "       'remainder__dependientes', 'remainder__factura_en_linea'],\n",
      "      dtype='object')\n"
     ]
    }
   ],
   "source": [
    "from sklearn.feature_selection import RFE\n",
    "\n",
    "modelo_base = LogisticRegression(penalty='l1', solver='liblinear', C = 10, random_state=42)\n",
    "selector = RFE(estimator=modelo_base, n_features_to_select=29)\n",
    "\n",
    "selector.fit(X_train_df, y_train)\n",
    "selected_features_mask = selector.support_\n",
    "selected_features = X_train_df.columns[selected_features_mask]\n",
    "\n",
    "X_train_selected = X_train_df[selected_features]\n",
    "X_test_selected = X_test_df[selected_features]\n",
    "\n",
    "print(\"Las variables seleccionadas son:\")\n",
    "print(selected_features)"
   ]
  },
  {
   "cell_type": "markdown",
   "metadata": {
    "id": "L_JY_JFQx4qu"
   },
   "source": [
    "# ***Balanceo de las Clases***"
   ]
  },
  {
   "cell_type": "code",
   "execution_count": 66,
   "metadata": {
    "colab": {
     "base_uri": "https://localhost:8080/"
    },
    "id": "ZXH0AwCpyCJO",
    "outputId": "48538ddc-6c79-473f-c001-4d7fafe4542a",
    "tags": []
   },
   "outputs": [
    {
     "name": "stdout",
     "output_type": "stream",
     "text": [
      "Distribución original: Counter({0: 5163, 1: 2093})\n",
      "Distribución del entrenamiento antes del balanceo: Counter({0: 4646, 1: 1884})\n",
      "Distribución del entrenamiento balanceado: Counter({0: 4646, 1: 4646})\n",
      "Las clases están perfectamente balanceadas.\n"
     ]
    }
   ],
   "source": [
    "from imblearn.over_sampling import RandomOverSampler\n",
    "from collections import Counter\n",
    "\n",
    "ros = RandomOverSampler(random_state=42)\n",
    "X_train_bal, y_train_bal = ros.fit_resample(X_train_selected, y_train)\n",
    "\n",
    "print(\"Distribución original:\", Counter(y))\n",
    "print(\"Distribución del entrenamiento antes del balanceo:\", Counter(y_train))\n",
    "print(\"Distribución del entrenamiento balanceado:\", Counter(y_train_bal))\n",
    "\n",
    "counter = Counter(y_train_bal)\n",
    "if len(set(counter.values())) == 1:\n",
    "    print(\"Las clases están perfectamente balanceadas.\")\n",
    "else:\n",
    "    print(\"Las clases NO están balanceadas perfectamente.\")"
   ]
  },
  {
   "cell_type": "markdown",
   "metadata": {
    "id": "yPDzJHoQPmkP"
   },
   "source": [
    "# ***Normalización o Estandarización***"
   ]
  },
  {
   "cell_type": "markdown",
   "metadata": {
    "id": "9zyhRWqHm6ht",
    "tags": []
   },
   "source": [
    "En esta etapa, no hace falta normalizar o estandarizar los datos antes del entrenamiento de modelos ya que si bien hay algunos que lo necesitan.  \n",
    "La realidad es que ya se aplicó la estandarización automáticamente a las variables numéricas mediante StandardScaler dentro del make_column_transformer.  \n",
    "Eso si, las variables binarias ('ciudadano_mayor', 'pareja', 'dependientes' y 'factura_en_linea') no se estandarizaron debido a que su escala no afecta a los algoritmos.  "
   ]
  },
  {
   "cell_type": "markdown",
   "metadata": {
    "id": "99uKUJNo6WSR"
   },
   "source": [
    "# ***Creación y Evaluación de los Modelos***"
   ]
  },
  {
   "cell_type": "code",
   "execution_count": 68,
   "metadata": {
    "id": "-uYGCxMnXYPS",
    "tags": []
   },
   "outputs": [],
   "source": [
    "from sklearn.metrics import accuracy_score, precision_score, recall_score, f1_score\n",
    "import numpy as np\n",
    "\n",
    "def evaluar_modelo(y_test, y_pred):\n",
    "  print(\"Resultados para el modelo:\")\n",
    "  print(f\"Accuracy: {accuracy_score(y_test, y_pred):.2f}\")\n",
    "  print(f\"Precision: {precision_score(y_test, y_pred):.2f}\")\n",
    "  print(f\"Recall: {recall_score(y_test, y_pred):.2f}\")\n",
    "  print(f\"F1: {f1_score(y_test, y_pred):.2f}\")"
   ]
  },
  {
   "cell_type": "code",
   "execution_count": 69,
   "metadata": {
    "colab": {
     "base_uri": "https://localhost:8080/"
    },
    "id": "07S6bih8pAQY",
    "outputId": "97494219-69c3-48af-debd-1bbae079df39",
    "tags": []
   },
   "outputs": [
    {
     "name": "stdout",
     "output_type": "stream",
     "text": [
      "Resultados para el modelo:\n",
      "Accuracy: 0.75\n",
      "Precision: 0.54\n",
      "Recall: 0.78\n",
      "F1: 0.64\n"
     ]
    }
   ],
   "source": [
    "from sklearn.linear_model import LogisticRegression\n",
    "\n",
    "modelo = LogisticRegression(\n",
    "    penalty='l2',\n",
    "    C=10,\n",
    "    class_weight= 'balanced',\n",
    "    solver='liblinear',\n",
    "    max_iter=5000,\n",
    "    random_state=42\n",
    ")\n",
    "\n",
    "modelo.fit(X_train_bal, y_train_bal)\n",
    "y_modelo_lr = modelo.predict(X_test_selected)\n",
    "evaluar_modelo(y_test, y_modelo_lr)"
   ]
  },
  {
   "cell_type": "code",
   "execution_count": 70,
   "metadata": {
    "colab": {
     "base_uri": "https://localhost:8080/"
    },
    "id": "rAbNNXmllBU6",
    "outputId": "4b362459-6765-4125-8eee-4ac4d9f64dbf",
    "tags": []
   },
   "outputs": [
    {
     "name": "stdout",
     "output_type": "stream",
     "text": [
      "Resultados para el modelo:\n",
      "Accuracy: 0.76\n",
      "Precision: 0.56\n",
      "Recall: 0.78\n",
      "F1: 0.65\n"
     ]
    }
   ],
   "source": [
    "from sklearn.ensemble import RandomForestClassifier\n",
    "\n",
    "modelo2 = RandomForestClassifier(\n",
    "    n_estimators=50,\n",
    "    max_depth=100,\n",
    "    min_samples_split=5,\n",
    "    min_samples_leaf=10,\n",
    "    max_features='log2',\n",
    "    class_weight='balanced',\n",
    "    random_state=42\n",
    ")\n",
    "\n",
    "modelo2.fit(X_train_bal, y_train_bal)\n",
    "y_modelo_rf = modelo2.predict(X_test_selected)\n",
    "evaluar_modelo(y_test, y_modelo_rf)"
   ]
  },
  {
   "cell_type": "code",
   "execution_count": 71,
   "metadata": {
    "colab": {
     "base_uri": "https://localhost:8080/"
    },
    "id": "Q04L3BVwnRL-",
    "outputId": "fa2af40d-7ac5-4584-f414-6a735de68722",
    "tags": []
   },
   "outputs": [
    {
     "name": "stdout",
     "output_type": "stream",
     "text": [
      "Resultados para el modelo:\n",
      "Accuracy: 0.75\n",
      "Precision: 0.55\n",
      "Recall: 0.79\n",
      "F1: 0.65\n"
     ]
    }
   ],
   "source": [
    "from sklearn.ensemble import GradientBoostingClassifier\n",
    "\n",
    "modelo3 = GradientBoostingClassifier(\n",
    "    n_estimators=100,\n",
    "    learning_rate=0.1,\n",
    "    max_depth=3,\n",
    "    subsample=0.8,\n",
    "    random_state=42\n",
    ")\n",
    "\n",
    "modelo3.fit(X_train_bal, y_train_bal)\n",
    "y_modelo_gb = modelo3.predict(X_test_selected)\n",
    "evaluar_modelo(y_test, y_modelo_gb)"
   ]
  },
  {
   "cell_type": "code",
   "execution_count": 72,
   "metadata": {
    "colab": {
     "base_uri": "https://localhost:8080/"
    },
    "id": "OZESRJb52UEL",
    "outputId": "c0af0c2b-a374-4528-9171-7cd953ba9ab4",
    "tags": []
   },
   "outputs": [
    {
     "name": "stdout",
     "output_type": "stream",
     "text": [
      "Resultados para el modelo:\n",
      "Accuracy: 0.74\n",
      "Precision: 0.54\n",
      "Recall: 0.84\n",
      "F1: 0.65\n"
     ]
    }
   ],
   "source": [
    "from sklearn.ensemble import VotingClassifier\n",
    "from sklearn.ensemble import RandomForestClassifier, GradientBoostingClassifier\n",
    "import numpy as np\n",
    "\n",
    "modelo_rf = RandomForestClassifier(\n",
    "    n_estimators=50,\n",
    "    max_depth=100,\n",
    "    min_samples_split=5,\n",
    "    min_samples_leaf=10,\n",
    "    max_features='log2',\n",
    "    class_weight='balanced',\n",
    "    random_state=42\n",
    ")\n",
    "\n",
    "modelo_gb = GradientBoostingClassifier(\n",
    "    n_estimators=100,\n",
    "    learning_rate=0.1,\n",
    "    max_depth=3,\n",
    "    subsample=0.8,\n",
    "    random_state=42\n",
    ")\n",
    "\n",
    "modelo_voto = VotingClassifier(estimators=[('rf', modelo_rf), ('gb', modelo_gb)],voting='soft')\n",
    "modelo_voto.fit(X_train_bal, y_train_bal)\n",
    "y_proba = modelo_voto.predict_proba(X_test_selected)[:, 1]\n",
    "umbral = 0.45\n",
    "y_pred = (y_proba >= umbral).astype(int)\n",
    "evaluar_modelo(y_test, y_pred)"
   ]
  },
  {
   "cell_type": "code",
   "execution_count": 73,
   "metadata": {
    "colab": {
     "base_uri": "https://localhost:8080/",
     "height": 460
    },
    "id": "iPoVGTE8bTsH",
    "outputId": "4b0e4f11-5b89-4204-f8b0-4ae2c5f6aa53",
    "tags": []
   },
   "outputs": [
    {
     "data": {
      "image/png": "[encoded data removed]",
      "text/plain": [
       "<Figure size 640x480 with 1 Axes>"
      ]
     },
     "metadata": {},
     "output_type": "display_data"
    }
   ],
   "source": [
    "from sklearn.metrics import RocCurveDisplay\n",
    "RocCurveDisplay.from_predictions(y_test, y_pred, name = 'Modelo Híbrido');"
   ]
  },
  {
   "cell_type": "code",
   "execution_count": 74,
   "metadata": {
    "colab": {
     "base_uri": "https://localhost:8080/",
     "height": 459
    },
    "id": "xUbWIii9eAaP",
    "outputId": "3898878d-f654-4ccd-b065-0edf9afe31f9",
    "tags": []
   },
   "outputs": [
    {
     "data": {
      "image/png": "[encoded data removed]",
      "text/plain": [
       "<Figure size 640x480 with 2 Axes>"
      ]
     },
     "metadata": {},
     "output_type": "display_data"
    }
   ],
   "source": [
    "from sklearn.metrics import confusion_matrix\n",
    "from sklearn.metrics import ConfusionMatrixDisplay\n",
    "\n",
    "matriz_confusion = confusion_matrix(y_test, y_pred)\n",
    "visualizacion_matriz = ConfusionMatrixDisplay(confusion_matrix = matriz_confusion, display_labels = ['Se quedó', 'Abandonó'])\n",
    "visualizacion_matriz.plot();"
   ]
  },
  {
   "cell_type": "markdown",
   "metadata": {
    "id": "2g1eCBiv62ME"
   },
   "source": [
    "# ***Análisis de la Importancia de las Variables según los Modelos***"
   ]
  },
  {
   "cell_type": "code",
   "execution_count": 75,
   "metadata": {
    "colab": {
     "base_uri": "https://localhost:8080/",
     "height": 576
    },
    "id": "K2iNqfH969m2",
    "outputId": "94245601-66cc-4e19-c633-e27da4ef74f7",
    "tags": []
   },
   "outputs": [
    {
     "data": {
      "image/png": "[encoded data removed]",
      "text/plain": [
       "<Figure size 2000x800 with 2 Axes>"
      ]
     },
     "metadata": {},
     "output_type": "display_data"
    }
   ],
   "source": [
    "rf_importance = modelo2.feature_importances_\n",
    "gb_importance = modelo3.feature_importances_\n",
    "\n",
    "feature_names = X_train_selected.columns\n",
    "importance_df = pd.DataFrame({\n",
    "    'Variable': feature_names,\n",
    "    'RandomForest': rf_importance,\n",
    "    'GBM': gb_importance\n",
    "})\n",
    "\n",
    "fig, axes = plt.subplots(1, 2, figsize=(20, 8))\n",
    "rf_plot_data = importance_df.sort_values('RandomForest', ascending=False).head(15)\n",
    "sns.barplot(x='RandomForest', y='Variable', data=rf_plot_data, ax=axes[0], palette='viridis', hue='Variable', legend=False)\n",
    "axes[0].set_title('IMPORTANCIA DE LAS VARIABLES - RANDOM FOREST', fontsize=14, fontweight='bold')\n",
    "axes[0].set_xlabel('IMPORTANCIA', fontsize=10, fontweight='bold')\n",
    "axes[0].set_ylabel('VARIABLES', fontsize=10, fontweight='bold')\n",
    "\n",
    "gbm_plot_data = importance_df.sort_values('GBM', ascending=False).head(15)\n",
    "sns.barplot(x='GBM', y='Variable', data=gbm_plot_data, ax=axes[1], palette='plasma', hue='Variable', legend=False)\n",
    "axes[1].set_title('IMPORTANCIA DE LAS VARIABLES - GBM', fontsize=14, fontweight='bold')\n",
    "axes[1].set_xlabel('IMPORTANCIA', fontsize=10, fontweight='bold')\n",
    "axes[1].set_ylabel('VARIABLES', fontsize=10, fontweight='bold')\n",
    "\n",
    "plt.tight_layout()\n",
    "plt.show()"
   ]
  },
  {
   "cell_type": "code",
   "execution_count": 76,
   "metadata": {
    "colab": {
     "base_uri": "https://localhost:8080/"
    },
    "id": "f_Cy0xL7yxqJ",
    "outputId": "8ee6fb28-892c-4f69-a0fd-3aa088f1ca3e",
    "tags": []
   },
   "outputs": [
    {
     "name": "stdout",
     "output_type": "stream",
     "text": [
      "TABLA COMPARATIVA DE LA IMPORTANCIA DE LAS VARIABLES\n",
      "--------------------------------------------------\n",
      "                                             Variable  RandomForest       GBM\n",
      "0                   standardscaler__meses_de_contrato      0.209088  0.165547\n",
      "1           onehotencoder__tipo_de_contrato_Mes a mes      0.171658  0.476448\n",
      "2                    standardscaler__cargos_mensuales      0.107242  0.112024\n",
      "3     onehotencoder__forma_de_pago_Cheque electrónico      0.063983  0.036735\n",
      "4            onehotencoder__tipo_de_contrato_Dos años      0.054492  0.016807\n",
      "5       onehotencoder__servicio_internet_Fibra óptica      0.037667  0.076798\n",
      "6                  onehotencoder__soporte_tecnico_Yes      0.032769  0.011772\n",
      "7              onehotencoder__tipo_de_contrato_Un año      0.032094  0.005878\n",
      "8                onehotencoder__servicio_internet_DSL      0.023695  0.000000\n",
      "9                 onehotencoder__seguridad_online_Yes      0.022478  0.010444\n",
      "10  onehotencoder__servicio_de_peliculas_No intern...      0.021709  0.002950\n",
      "11  onehotencoder__proteccion_del_dispositivo_No i...      0.019810  0.001501\n",
      "12  onehotencoder__seguridad_online_No internet se...      0.018962  0.002611\n",
      "13                        remainder__factura_en_linea      0.018426  0.008574\n",
      "14     onehotencoder__servicio_tv_No internet service      0.018141  0.002328\n"
     ]
    }
   ],
   "source": [
    "comparison_table = importance_df.sort_values(by='RandomForest', ascending=False).reset_index(drop=True).head(15)\n",
    "print(\"TABLA COMPARATIVA DE LA IMPORTANCIA DE LAS VARIABLES\")\n",
    "print(\"-\" * 50)\n",
    "print(comparison_table)"
   ]
  },
  {
   "cell_type": "code",
   "execution_count": 77,
   "metadata": {
    "colab": {
     "base_uri": "https://localhost:8080/",
     "height": 1000
    },
    "id": "VZOdbo3118Ic",
    "outputId": "436d04a8-e5da-48ba-92f3-aeb3963f1311",
    "tags": []
   },
   "outputs": [
    {
     "data": {
      "image/png": "[encoded data removed]",
      "text/plain": [
       "<Figure size 3000x1000 with 12 Axes>"
      ]
     },
     "metadata": {},
     "output_type": "display_data"
    }
   ],
   "source": [
    "from sklearn.inspection import PartialDependenceDisplay\n",
    "\n",
    "features_to_plot = [\n",
    "    'standardscaler__meses_de_contrato',\n",
    "    'standardscaler__cargos_mensuales',\n",
    "    'onehotencoder__tipo_de_contrato_Mes a mes',\n",
    "    'onehotencoder__forma_de_pago_Cheque electrónico',\n",
    "    'onehotencoder__tipo_de_contrato_Dos años',\n",
    "    'onehotencoder__servicio_internet_Fibra óptica'\n",
    "]\n",
    "\n",
    "fig, axs = plt.subplots(2, 3, figsize=(30, 10))\n",
    "palette = sns.color_palette(\"Set2\", len(features_to_plot))\n",
    "line_kw_list = [{\"color\": c, \"linewidth\": 2, \"linestyle\": \"--\"} for c in palette]\n",
    "fig.suptitle('GRÁFICOS DE DEPENDENCIA PARCIAL', fontsize=18, fontweight='bold')\n",
    "\n",
    "for i, feature in enumerate(features_to_plot):\n",
    "    ax = axs.ravel()[i]\n",
    "\n",
    "    PartialDependenceDisplay.from_estimator(\n",
    "        modelo3,\n",
    "        X_train_selected,\n",
    "        [feature],\n",
    "        ax=ax,\n",
    "        kind='average',\n",
    "        grid_resolution=100,\n",
    "        line_kw=line_kw_list[i]\n",
    "    )\n",
    "\n",
    "    ax.tick_params(axis='both', which='major', labelsize=10)\n",
    "    ax.grid(True, linestyle='--', alpha=0.6)\n",
    "\n",
    "plt.tight_layout()\n",
    "plt.show()"
   ]
  },
  {
   "cell_type": "markdown",
   "metadata": {
    "id": "912o1Jl5DvNv"
   },
   "source": [
    "# Análisis de resultados"
   ]
  },
  {
   "cell_type": "markdown",
   "metadata": {},
   "source": [
    "Los modelos muestran que la **predicción de churn es viable** y permite identificar patrones consistentes de evasión. Los factores de mayor riesgo son: **baja antigüedad, contratos cortos, pagos manuales y altos costos**.  \n",
    "\n",
    "La empresa puede reducir la cancelación al:  \n",
    "\n",
    "- Implementar **programas de fidelización temprana** en los primeros meses.  \n",
    "- Promover **contratos anuales o bianuales** con incentivos.  \n",
    "- Ofrecer **descuentos o planes ajustados** a clientes con cargos elevados.  \n",
    "- Incentivar **pagos automáticos**.  \n",
    "- Mejorar la experiencia de los clientes con **servicio de fibra óptica**.  \n",
    "\n",
    "---\n",
    "\n",
    "## Recomendaciones Estratégicas  \n",
    "\n",
    "1. **Segmentar clientes en riesgo** usando el modelo predictivo y monitorearlos activamente.  \n",
    "2. **Ofrecer promociones personalizadas** para clientes con contratos cortos y facturas altas.  \n",
    "3. **Fomentar la automatización de pagos** como política comercial.  \n",
    "4. **Diseñar estrategias de retención específicas** para usuarios de fibra óptica.  \n",
    "\n",
    "---\n",
    "\n",
    "## Conclusión Final  \n",
    "\n",
    "Con un pipeline robusto de preprocesamiento y modelos predictivos, **TelecomX puede anticiparse a la evasión de clientes, reducir el churn y aumentar la lealtad de su base actual**, optimizando así su rentabilidad en el mercado LATAM.  "
   ]
  },
  {
   "cell_type": "code",
   "execution_count": null,
   "metadata": {},
   "outputs": [],
   "source": []
  }
 ],
 "metadata": {
  "colab": {
   "authorship_tag": "ABX9TyN3WlPN0SBnZyAG0JdypGca",
   "collapsed_sections": [
    "DXBPIKIN1WrU",
    "oJuxvchfMi_m",
    "TfQ9NkfGfkP9",
    "aQYsoKI7Xpqo",
    "2JSzaC_VXLoB",
    "rgwXxN1lzbKa",
    "xTAbGXTyTGai",
    "L_JY_JFQx4qu",
    "yPDzJHoQPmkP",
    "99uKUJNo6WSR",
    "2g1eCBiv62ME",
    "912o1Jl5DvNv"
   ],
   "include_colab_link": true,
   "provenance": []
  },
  "kernelspec": {
   "display_name": "Python 3 (ipykernel)",
   "language": "python",
   "name": "python3"
  },
  "language_info": {
   "codemirror_mode": {
    "name": "ipython",
    "version": 3
   },
   "file_extension": ".py",
   "mimetype": "text/x-python",
   "name": "python",
   "nbconvert_exporter": "python",
   "pygments_lexer": "ipython3",
   "version": "3.13.3"
  }
 },
 "nbformat": 4,
 "nbformat_minor": 4
}
